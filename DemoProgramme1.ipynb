{
 "cells": [
  {
   "cell_type": "markdown",
   "id": "7dca8f50",
   "metadata": {},
   "source": [
    "# Python Code Learning"
   ]
  },
  {
   "cell_type": "markdown",
   "id": "432d2af1",
   "metadata": {},
   "source": [
    "### This Jupyter notebook contains extensive example of\n",
    "- Python Language element\n",
    "- Built in data-types\n",
    "- Numpy Library function for Array Management\n",
    "- Pandas Library Data-Structers - Series and DataFrames\n",
    "- String Operations\n",
    "- Date/Time Operations"
   ]
  },
  {
   "cell_type": "code",
   "execution_count": null,
   "id": "3ca248aa",
   "metadata": {},
   "outputs": [],
   "source": [
    "import warnings\n",
    "warnings.filterwarnnings(\"ignore\") |"
   ]
  },
  {
   "cell_type": "markdown",
   "id": "6861a85f",
   "metadata": {},
   "source": [
    "### Variables Built-In Data Types\n",
    "- Integer\n",
    "- Float\n",
    "- Boolean\n",
    "- String"
   ]
  },
  {
   "cell_type": "code",
   "execution_count": null,
   "id": "f2c3ca0c",
   "metadata": {},
   "outputs": [],
   "source": [
    "8+9"
   ]
  },
  {
   "cell_type": "code",
   "execution_count": 1,
   "id": "eca5d032",
   "metadata": {},
   "outputs": [
    {
     "data": {
      "text/plain": [
       "343"
      ]
     },
     "execution_count": 1,
     "metadata": {},
     "output_type": "execute_result"
    }
   ],
   "source": [
    "a=7\n",
    "a*a*a"
   ]
  },
  {
   "cell_type": "code",
   "execution_count": 2,
   "id": "9c2508ea",
   "metadata": {},
   "outputs": [
    {
     "name": "stdout",
     "output_type": "stream",
     "text": [
      "5\n",
      "My name is Partha Chakraborty\n",
      "34.67\n",
      "True\n"
     ]
    }
   ],
   "source": [
    "# Creating Variables\n",
    "\n",
    "i=5\n",
    "print(i)\n",
    "str =\"My name is Partha Chakraborty\"\n",
    "print(str)\n",
    "flt=34.67\n",
    "print(flt)\n",
    "bln = True\n",
    "print(bln)"
   ]
  },
  {
   "cell_type": "markdown",
   "id": "f993b098",
   "metadata": {},
   "source": [
    "#### Printing the Type of Variables"
   ]
  },
  {
   "cell_type": "code",
   "execution_count": 5,
   "id": "8545945a",
   "metadata": {},
   "outputs": [
    {
     "name": "stdout",
     "output_type": "stream",
     "text": [
      "<class 'int'>\n",
      "<class 'float'>\n",
      "<class 'str'>\n",
      "<class 'bool'>\n"
     ]
    }
   ],
   "source": [
    "# Print the type of each of the variables\n",
    "print(type(i))\n",
    "print(type(flt))\n",
    "print(type(str))\n",
    "print(type(bln))"
   ]
  },
  {
   "cell_type": "code",
   "execution_count": 6,
   "id": "dce50a00",
   "metadata": {},
   "outputs": [
    {
     "name": "stdout",
     "output_type": "stream",
     "text": [
      "7\n",
      "change to string\n"
     ]
    }
   ],
   "source": [
    "i = 7\n",
    "print(i)\n",
    "i =\"change to string\"\n",
    "print(i)"
   ]
  },
  {
   "cell_type": "markdown",
   "id": "301b6c94",
   "metadata": {},
   "source": [
    "#### Python supports a number of type of operators\n",
    "- Arithmetic Operators\n",
    "- Comparison (Relational) Operators\n",
    "- Assignment Operators\n",
    "- Logical Operators\n",
    "- Bitwise Operators\n",
    "- Membership Operators\n",
    "- identity Operators"
   ]
  },
  {
   "cell_type": "code",
   "execution_count": 11,
   "id": "23f0817d",
   "metadata": {},
   "outputs": [
    {
     "name": "stdout",
     "output_type": "stream",
     "text": [
      "17\n",
      "Partha Chakraborty\n"
     ]
    }
   ],
   "source": [
    "i = 8\n",
    "j = 9\n",
    "print(i + j)\n",
    "#\n",
    "str1 =\"Partha\"\n",
    "str2 = \"Chakraborty\"\n",
    "print(str1 + \" \"+ str2)"
   ]
  },
  {
   "cell_type": "markdown",
   "id": "7839af50",
   "metadata": {},
   "source": [
    "#### Find Modules"
   ]
  },
  {
   "cell_type": "code",
   "execution_count": null,
   "id": "30d4dbf9",
   "metadata": {},
   "outputs": [],
   "source": []
  }
 ],
 "metadata": {
  "kernelspec": {
   "display_name": "Python 3 (ipykernel)",
   "language": "python",
   "name": "python3"
  },
  "language_info": {
   "codemirror_mode": {
    "name": "ipython",
    "version": 3
   },
   "file_extension": ".py",
   "mimetype": "text/x-python",
   "name": "python",
   "nbconvert_exporter": "python",
   "pygments_lexer": "ipython3",
   "version": "3.11.3"
  }
 },
 "nbformat": 4,
 "nbformat_minor": 5
}
