{
 "cells": [
  {
   "cell_type": "markdown",
   "id": "2aa21c62",
   "metadata": {},
   "source": [
    "## PANDAS"
   ]
  },
  {
   "cell_type": "markdown",
   "id": "94f964ee",
   "metadata": {},
   "source": [
    "#### Pandas Series 1"
   ]
  },
  {
   "cell_type": "markdown",
   "id": "af58536c",
   "metadata": {},
   "source": [
    "Pandas is another library that has become almost all pervading in Data analysis using python.Pandas offer two powerful Data structres named series and DataFrame\n",
    "\n",
    "1. Pandas is open source BSD licened\n",
    "2. Pandas built is on top of Numlibrary\n",
    "3. Pandas offer series, a one dimensional array of lablled or indexed data.In some effect that makes series object act like a dictionary.\n",
    "4. DataFrames are multidimensional arrays.DataFrames provides row and column labels or indexes that can be used for efficient access of rows, columns or elements\n",
    "5. DataFrames allow for working with missing data\n",
    "6. DataFrames acts similarly Database tables or spreadsheet and other similar features to them such as data grouping, group operations, filtering, efficient condition-based data manupulations, creating pivot tables etc.\n",
    "7. Pandas offers features to manupulate data structures and interoperability between various data structres.\n",
    "8. Pandas offer efficient date time oeration and handling of time-indexed data.\n",
    "9. In both Series and DataFrames, indexces can be explicitly defined and manupulated.\n",
    "10. Pandas offer integration with several data/file formats such as CSV,excel, json. import from or export to these dataformats are efficient and easy.\n",
    "11. Pandas offer integration with several visualisation tools such as matplotlib and seaborn libraries."
   ]
  },
  {
   "cell_type": "code",
   "execution_count": 1,
   "id": "e05780de",
   "metadata": {},
   "outputs": [],
   "source": [
    "import pandas as pd"
   ]
  },
  {
   "cell_type": "markdown",
   "id": "3cb72d98",
   "metadata": {},
   "source": [
    "## Pandas Series of Objects"
   ]
  },
  {
   "cell_type": "code",
   "execution_count": 17,
   "id": "7a646612",
   "metadata": {},
   "outputs": [
    {
     "name": "stdout",
     "output_type": "stream",
     "text": [
      "0    7\n",
      "1    9\n",
      "2    3\n",
      "3    5\n",
      "4    2\n",
      "5    4\n",
      "dtype: int64\n",
      "a    7\n",
      "b    9\n",
      "c    3\n",
      "d    5\n",
      "e    2\n",
      "f    4\n",
      "dtype: int64\n"
     ]
    }
   ],
   "source": [
    "# Create first pandas series object\n",
    "ser1 = pd.Series([7,9,3,5,2,4])\n",
    "print(ser1)\n",
    "ser1 = pd.Series([7,9,3,5,2,4],index = ['a','b','c','d','e','f'])\n",
    "print(ser1)"
   ]
  },
  {
   "cell_type": "code",
   "execution_count": 3,
   "id": "41d0d8a7",
   "metadata": {},
   "outputs": [
    {
     "name": "stdout",
     "output_type": "stream",
     "text": [
      "[1 2 3 4 5 6 7 8 9]\n",
      "0    1\n",
      "1    2\n",
      "2    3\n",
      "3    4\n",
      "4    5\n",
      "5    6\n",
      "6    7\n",
      "7    8\n",
      "8    9\n",
      "dtype: int32\n"
     ]
    }
   ],
   "source": [
    "# Creating a Series object using a Numpy Array\n",
    "import numpy as np\n",
    "arr1 = np.array([1,2,3,4,5,6,7,8,9])\n",
    "print(arr1)\n",
    "ser1 = pd.Series(arr1)\n",
    "print(ser1)"
   ]
  },
  {
   "cell_type": "code",
   "execution_count": 4,
   "id": "0af73f6c",
   "metadata": {},
   "outputs": [
    {
     "name": "stdout",
     "output_type": "stream",
     "text": [
      "Import the whole Dictionary: \n",
      " Tran_Id              T0089\n",
      "Cust_Id            C000867\n",
      "ATM_Location    HSR Layout\n",
      "Acc_Type           Savings\n",
      "dtype: object \n",
      "\n",
      "Import Only specified Indexces from the Dictionary: \n",
      " Tran_Id       T0089\n",
      "Acc_Type    Savings\n",
      "Cust_Id     C000867\n",
      "dtype: object\n"
     ]
    }
   ],
   "source": [
    "# Creating a Series object using a Dictionary\n",
    "dict_trans = {\"Tran_Id\":\"T0089\",\"Cust_Id\":\"C000867\",\"ATM_Location\":\"HSR Layout\",\"Acc_Type\":\"Savings\"}\n",
    "ser1 = pd.Series(dict_trans)\n",
    "print(\"Import the whole Dictionary: \\n\",ser1,'\\n')\n",
    "ser1 = pd.Series(dict_trans, index = ['Tran_Id','Acc_Type','Cust_Id'])\n",
    "print(\"Import Only specified Indexces from the Dictionary: \\n\",ser1)"
   ]
  },
  {
   "cell_type": "markdown",
   "id": "e4169ac2",
   "metadata": {},
   "source": [
    "#### Accessing Series Elements"
   ]
  },
  {
   "cell_type": "code",
   "execution_count": 5,
   "id": "1cfea7fa",
   "metadata": {},
   "outputs": [
    {
     "name": "stdout",
     "output_type": "stream",
     "text": [
      "Print the Whole series::- \n",
      " a    7\n",
      "b    9\n",
      "c    3\n",
      "d    5\n",
      "e    2\n",
      "f    4\n",
      "dtype: int64\n",
      "print the 3rd element: \n",
      " 3\n",
      "print the elements between the 2nd to 4th position : \n",
      " b    9\n",
      "c    3\n",
      "d    5\n",
      "dtype: int64\n"
     ]
    }
   ],
   "source": [
    "# Accessing elements of a series objects\n",
    "ser1 = pd.Series([7,9,3,5,2,4],index = ['a','b','c','d','e','f'])\n",
    "print(\"Print the Whole series::- \\n\",ser1)\n",
    "print(\"print the 3rd element: \\n\",ser1[2])\n",
    "print(\"print the elements between the 2nd to 4th position : \\n\",ser1[1:4])"
   ]
  },
  {
   "cell_type": "code",
   "execution_count": 6,
   "id": "76f60bef",
   "metadata": {},
   "outputs": [
    {
     "name": "stdout",
     "output_type": "stream",
     "text": [
      "print a slice using explicite indexces::-- \n",
      " b    9\n",
      "c    3\n",
      "d    5\n",
      "dtype: int64\n"
     ]
    }
   ],
   "source": [
    "# Accessing elements of a series objects by specifying Index values\n",
    "ser1 = pd.Series([7,9,3,5,2,4],index = ['a','b','c','d','e','f'])\n",
    "print(\"print a slice using explicite indexces::-- \\n\",ser1['b':'d'])"
   ]
  },
  {
   "cell_type": "markdown",
   "id": "bf1135ee",
   "metadata": {},
   "source": [
    "#### Pandas Series 2"
   ]
  },
  {
   "cell_type": "markdown",
   "id": "b1c7bef0",
   "metadata": {},
   "source": [
    "Accessing series objects using 'loc' 'iloc' indexcers "
   ]
  },
  {
   "cell_type": "code",
   "execution_count": 7,
   "id": "980e3564",
   "metadata": {},
   "outputs": [
    {
     "name": "stdout",
     "output_type": "stream",
     "text": [
      "a    7\n",
      "b    9\n",
      "c    3\n",
      "d    5\n",
      "e    2\n",
      "f    4\n",
      "dtype: int64\n",
      "Print a Single element using loc:--\n",
      " 9\n",
      "Print a slice element using loc:--\n",
      " b    9\n",
      "c    3\n",
      "d    5\n",
      "dtype: int64\n"
     ]
    }
   ],
   "source": [
    "# Accessing elements of a series objects by using the 'loc'\n",
    "ser1 = pd.Series([7,9,3,5,2,4],index = ['a','b','c','d','e','f'])\n",
    "print(ser1)\n",
    "print(\"Print a Single element using loc:--\\n\",ser1.loc['b'])\n",
    "print(\"Print a slice element using loc:--\\n\",ser1.loc['b':'d'])"
   ]
  },
  {
   "cell_type": "markdown",
   "id": "e72877fa",
   "metadata": {},
   "source": [
    "#### implicit or integer based indexing using iloc"
   ]
  },
  {
   "cell_type": "code",
   "execution_count": 8,
   "id": "f7bc2f5a",
   "metadata": {},
   "outputs": [
    {
     "name": "stdout",
     "output_type": "stream",
     "text": [
      "a    7\n",
      "b    9\n",
      "c    3\n",
      "d    5\n",
      "e    2\n",
      "f    4\n",
      "dtype: int64\n",
      "Print a Single element using iloc:--\n",
      " 3\n",
      "Print a slice element using iloc:--\n",
      " b    9\n",
      "c    3\n",
      "d    5\n",
      "dtype: int64\n"
     ]
    }
   ],
   "source": [
    "# Accessing elements of a Series Objects using iloc\n",
    "ser1 = pd.Series([7,9,3,5,2,4],index = ['a','b','c','d','e','f'])\n",
    "print(ser1)\n",
    "print(\"Print a Single element using iloc:--\\n\",ser1.iloc[2])\n",
    "print(\"Print a slice element using iloc:--\\n\",ser1.iloc[1:4])"
   ]
  },
  {
   "cell_type": "code",
   "execution_count": 9,
   "id": "0612578b",
   "metadata": {},
   "outputs": [
    {
     "name": "stdout",
     "output_type": "stream",
     "text": [
      "3\n"
     ]
    }
   ],
   "source": [
    "# Accessing elements of a Series Objects using iat\n",
    "ser1 = pd.Series([7,9,3,5,2,4],index = ['a','b','c','d','e','f'])\n",
    "print(ser1.iat[2])"
   ]
  },
  {
   "cell_type": "markdown",
   "id": "5cde76fb",
   "metadata": {},
   "source": [
    "#### Series Objects attribute"
   ]
  },
  {
   "cell_type": "code",
   "execution_count": 10,
   "id": "59f26513",
   "metadata": {},
   "outputs": [
    {
     "name": "stdout",
     "output_type": "stream",
     "text": [
      "<PandasArray>\n",
      "[7, 9, 3, 5, 2, 4]\n",
      "Length: 6, dtype: int64\n"
     ]
    }
   ],
   "source": [
    "# Return the Python Array equivalent of the series\n",
    "arr1 = ser1.array\n",
    "print(arr1)"
   ]
  },
  {
   "cell_type": "code",
   "execution_count": 11,
   "id": "b0c7c6fc",
   "metadata": {},
   "outputs": [
    {
     "name": "stdout",
     "output_type": "stream",
     "text": [
      "[Index(['a', 'b', 'c', 'd', 'e', 'f'], dtype='object')]\n"
     ]
    }
   ],
   "source": [
    "# Return the Python Array equivalent of the series axexes\n",
    "axes1 = ser1.axes\n",
    "print(axes1)"
   ]
  },
  {
   "cell_type": "code",
   "execution_count": 12,
   "id": "b07f0b34",
   "metadata": {},
   "outputs": [
    {
     "name": "stdout",
     "output_type": "stream",
     "text": [
      "Data Type of Ser1::-- int64\n",
      "Data Type of Ser2::-- object\n",
      "Data Type of Ser3::-- float64\n",
      "Data Type of Ser4::-- object\n"
     ]
    }
   ],
   "source": [
    "# Return the Python Array element datatypes dtypes\n",
    "ser1 = pd.Series([7,9,3,5,2,4])\n",
    "ser2 = pd.Series(['a','b','c','d','e','f'])\n",
    "ser3 = pd.Series([12.78,90,876,56.9008])\n",
    "ser4 = pd.Series([1,'s',45.78,True])\n",
    "print(\"Data Type of Ser1::--\",ser1.dtypes)\n",
    "print(\"Data Type of Ser2::--\",ser2.dtypes)\n",
    "print(\"Data Type of Ser3::--\",ser3.dtypes)\n",
    "print(\"Data Type of Ser4::--\",ser4.dtypes)"
   ]
  },
  {
   "cell_type": "code",
   "execution_count": 13,
   "id": "9defa020",
   "metadata": {},
   "outputs": [
    {
     "name": "stdout",
     "output_type": "stream",
     "text": [
      "Check wheather ser1 has NaN values:- False\n",
      "ser1:\n",
      " 0    7.0\n",
      "1    9.0\n",
      "2    NaN\n",
      "3    5.0\n",
      "4    2.0\n",
      "5    4.0\n",
      "dtype: float64\n",
      "Check wheather ser1 has NaN values:- True\n"
     ]
    }
   ],
   "source": [
    "# Return True if the series have any NaN values otherwise false\n",
    "ser1 = pd.Series([7,9,3,5,2,4])\n",
    "print(\"Check wheather ser1 has NaN values:-\",ser1.hasnans)\n",
    "ser1[2] = np.nan\n",
    "print(\"ser1:\\n\", ser1)\n",
    "print(\"Check wheather ser1 has NaN values:-\",ser1.hasnans)"
   ]
  },
  {
   "cell_type": "code",
   "execution_count": 14,
   "id": "c9a2e02e",
   "metadata": {},
   "outputs": [
    {
     "name": "stdout",
     "output_type": "stream",
     "text": [
      "Index(['a', 'b', 'c', 'd', 'e', 'f'], dtype='object')\n"
     ]
    }
   ],
   "source": [
    "# Return the Indexes values of the Series Objects\n",
    "ser1 = pd.Series([7,9,3,5,2,4],index = ['a','b','c','d','e','f'])\n",
    "print(ser1.index)"
   ]
  },
  {
   "cell_type": "code",
   "execution_count": 15,
   "id": "c0bba498",
   "metadata": {},
   "outputs": [
    {
     "name": "stdout",
     "output_type": "stream",
     "text": [
      "0    1\n",
      "1    2\n",
      "2    3\n",
      "3    4\n",
      "4    5\n",
      "5    6\n",
      "dtype: int64\n"
     ]
    },
    {
     "ename": "AttributeError",
     "evalue": "'Series' object has no attribute 'is_monotonic'",
     "output_type": "error",
     "traceback": [
      "\u001b[1;31m---------------------------------------------------------------------------\u001b[0m",
      "\u001b[1;31mAttributeError\u001b[0m                            Traceback (most recent call last)",
      "Cell \u001b[1;32mIn[15], line 5\u001b[0m\n\u001b[0;32m      3\u001b[0m ser1 \u001b[38;5;241m=\u001b[39m pd\u001b[38;5;241m.\u001b[39mSeries([\u001b[38;5;241m1\u001b[39m,\u001b[38;5;241m2\u001b[39m,\u001b[38;5;241m3\u001b[39m,\u001b[38;5;241m4\u001b[39m,\u001b[38;5;241m5\u001b[39m,\u001b[38;5;241m6\u001b[39m])\n\u001b[0;32m      4\u001b[0m \u001b[38;5;28mprint\u001b[39m(ser1)\n\u001b[1;32m----> 5\u001b[0m \u001b[38;5;28mprint\u001b[39m(ser1\u001b[38;5;241m.\u001b[39mis_monotonic)\n",
      "File \u001b[1;32m~\\AppData\\Roaming\\Python\\Python311\\site-packages\\pandas\\core\\generic.py:5989\u001b[0m, in \u001b[0;36mNDFrame.__getattr__\u001b[1;34m(self, name)\u001b[0m\n\u001b[0;32m   5982\u001b[0m \u001b[38;5;28;01mif\u001b[39;00m (\n\u001b[0;32m   5983\u001b[0m     name \u001b[38;5;129;01mnot\u001b[39;00m \u001b[38;5;129;01min\u001b[39;00m \u001b[38;5;28mself\u001b[39m\u001b[38;5;241m.\u001b[39m_internal_names_set\n\u001b[0;32m   5984\u001b[0m     \u001b[38;5;129;01mand\u001b[39;00m name \u001b[38;5;129;01mnot\u001b[39;00m \u001b[38;5;129;01min\u001b[39;00m \u001b[38;5;28mself\u001b[39m\u001b[38;5;241m.\u001b[39m_metadata\n\u001b[0;32m   5985\u001b[0m     \u001b[38;5;129;01mand\u001b[39;00m name \u001b[38;5;129;01mnot\u001b[39;00m \u001b[38;5;129;01min\u001b[39;00m \u001b[38;5;28mself\u001b[39m\u001b[38;5;241m.\u001b[39m_accessors\n\u001b[0;32m   5986\u001b[0m     \u001b[38;5;129;01mand\u001b[39;00m \u001b[38;5;28mself\u001b[39m\u001b[38;5;241m.\u001b[39m_info_axis\u001b[38;5;241m.\u001b[39m_can_hold_identifiers_and_holds_name(name)\n\u001b[0;32m   5987\u001b[0m ):\n\u001b[0;32m   5988\u001b[0m     \u001b[38;5;28;01mreturn\u001b[39;00m \u001b[38;5;28mself\u001b[39m[name]\n\u001b[1;32m-> 5989\u001b[0m \u001b[38;5;28;01mreturn\u001b[39;00m \u001b[38;5;28mobject\u001b[39m\u001b[38;5;241m.\u001b[39m\u001b[38;5;21m__getattribute__\u001b[39m(\u001b[38;5;28mself\u001b[39m, name)\n",
      "\u001b[1;31mAttributeError\u001b[0m: 'Series' object has no attribute 'is_monotonic'"
     ]
    }
   ],
   "source": [
    "# Print if the series values are monotonic increasing\n",
    "import pandas as pd\n",
    "ser1 = pd.Series([1,2,3,4,5,6])\n",
    "print(ser1)\n",
    "print(ser1.is_monotonic)"
   ]
  },
  {
   "cell_type": "code",
   "execution_count": null,
   "id": "17084916",
   "metadata": {},
   "outputs": [],
   "source": [
    "ser1 = pd.Series([1,2,3,4,5,6])\n",
    "print(ser1)\n",
    "print(ser1.is_unique)"
   ]
  },
  {
   "cell_type": "code",
   "execution_count": null,
   "id": "59c6f5cb",
   "metadata": {},
   "outputs": [],
   "source": [
    "ser1 = pd.Series([1,2,3,4,5,6])\n",
    "print(ser1)\n",
    "print(ser1.nbytes)"
   ]
  },
  {
   "cell_type": "code",
   "execution_count": null,
   "id": "ac1c8545",
   "metadata": {},
   "outputs": [],
   "source": [
    "ser1 = pd.Series([1,2,3,4,5,6])\n",
    "print(ser1)\n",
    "print(ser1.size)"
   ]
  },
  {
   "cell_type": "code",
   "execution_count": null,
   "id": "5d1796c2",
   "metadata": {},
   "outputs": [],
   "source": [
    "ser1 = pd.Series([1,2,3,4,5,6])\n",
    "print(ser1)\n",
    "print(ser1.values)"
   ]
  },
  {
   "cell_type": "markdown",
   "id": "0e1827c7",
   "metadata": {},
   "source": [
    "## Series Object method"
   ]
  },
  {
   "cell_type": "code",
   "execution_count": null,
   "id": "85ab0e3f",
   "metadata": {},
   "outputs": [],
   "source": [
    "# The add method adds corresponding elements from two series objects\n",
    "ser1 = pd.Series([1,2,3,4,5,6])\n",
    "ser2 = pd.Series([10,20,30,40,50,60])\n",
    "print(ser1.add(ser2))"
   ]
  },
  {
   "cell_type": "code",
   "execution_count": null,
   "id": "98a1c453",
   "metadata": {},
   "outputs": [],
   "source": [
    "# The append method concatenates one Series at the end of the other\n",
    "ser1 = pd.Series([1,2,3,4,5,6])\n",
    "ser2 = pd.Series([10,20,30,40,50,60])\n",
    "print(ser1.append(ser2))"
   ]
  },
  {
   "cell_type": "code",
   "execution_count": null,
   "id": "267e2137",
   "metadata": {},
   "outputs": [],
   "source": [
    "#use 'astype' method to cast the elements to another data type\n",
    "ser1 = pd.Series([1,2,3,4,5,6])\n",
    "print(list(ser1.astype(str)))"
   ]
  },
  {
   "cell_type": "code",
   "execution_count": null,
   "id": "94aa9ee3",
   "metadata": {},
   "outputs": [],
   "source": [
    "## Extract values of an element at a specified date/time in Date/Time Index series\n",
    "\n",
    "# Filter/Extract specific elements with date/time index series\n",
    "dt_tm = pd.date_range('2020-4-1', periods = 5, freq='6H')\n",
    "ser1 = pd.DataFrame({'A': ['Sleep','Breakfast','Lunch','Snacks','Dinner']}, index = dt_tm)\n",
    "print(\"Series: \\n\",ser1)\n",
    "print(\"\\n\", ser1.at_time('18:00'))"
   ]
  },
  {
   "cell_type": "markdown",
   "id": "f62a4345",
   "metadata": {},
   "source": [
    "#### Panda Series 3"
   ]
  },
  {
   "cell_type": "code",
   "execution_count": null,
   "id": "e59dba83",
   "metadata": {},
   "outputs": [],
   "source": [
    "# Use between Method\n",
    "ser1 = pd.Series([1,2,3,4,5,6])\n",
    "print(ser1.between(2,4))"
   ]
  },
  {
   "cell_type": "code",
   "execution_count": null,
   "id": "3df4310e",
   "metadata": {},
   "outputs": [],
   "source": [
    "# Copies One Series to New one\n",
    "# Series Deep Copy and Shallow copy\n",
    "ser1 = pd.Series([3,4,5])\n",
    "ser2 = ser1.copy(deep = True)\n",
    "ser1[2] = 8\n",
    "print(\"Series 1::- \\n\",ser1)\n",
    "print(\"Series 2 - Deep copy:-\\n\",ser2)\n",
    "ser3 = ser1.copy(deep = False)\n",
    "ser1[2] = 8\n",
    "print(\"Series 3 - Shallow copy:-\\n\",ser3)"
   ]
  },
  {
   "cell_type": "code",
   "execution_count": null,
   "id": "55489907",
   "metadata": {},
   "outputs": [],
   "source": [
    "# Count of Element, Return the number of elements in a series\n",
    "\n",
    "ser1 = pd.Series([3,4,5])\n",
    "print(ser1.count())"
   ]
  },
  {
   "cell_type": "code",
   "execution_count": null,
   "id": "5bd52258",
   "metadata": {},
   "outputs": [],
   "source": [
    "#### Print discriptive Statisstics of the series elements\n",
    "ser1 = pd.Series([12,21,14,10,15,19])\n",
    "ser1.describe()"
   ]
  },
  {
   "cell_type": "code",
   "execution_count": null,
   "id": "0d72ef4f",
   "metadata": {},
   "outputs": [],
   "source": [
    "# Devides corresponding elements from two series objects\n",
    "ser1 = pd.Series([5,45,6,8,90,64])\n",
    "ser2 = pd.Series([8,24,88,60,56, 40])\n",
    "print(round(ser1.div(ser2),2))"
   ]
  },
  {
   "cell_type": "code",
   "execution_count": null,
   "id": "c8502894",
   "metadata": {},
   "outputs": [],
   "source": [
    "# Drop method removes the specified elements from a series objects\n",
    "ser1 = pd.Series([7,9,3,5,2,4],index = ['a','b','c','d','e','f'])\n",
    "ser2 = ser1.drop(labels = ['c','e'])\n",
    "print(ser2)"
   ]
  },
  {
   "cell_type": "code",
   "execution_count": null,
   "id": "e89b16e4",
   "metadata": {},
   "outputs": [],
   "source": [
    "# dropna method removes null or missing values from series\n",
    "ser1 = pd.Series([3,5,8,9,5])\n",
    "ser1[2] = np.nan\n",
    "print(\"Series 1 \\n\", ser1)\n",
    "print(\"Check the series after droping nans: \\n\", ser1.dropna())"
   ]
  },
  {
   "cell_type": "code",
   "execution_count": null,
   "id": "fbb3673a",
   "metadata": {},
   "outputs": [],
   "source": [
    "# Check if two series Object are equal\n",
    "ser1 = pd.Series([3,5,8,9,5])\n",
    "ser2 = pd.Series([3,5,8,9,5,9])\n",
    "print(ser1.equals(ser2))"
   ]
  },
  {
   "cell_type": "code",
   "execution_count": null,
   "id": "fb312ff9",
   "metadata": {},
   "outputs": [],
   "source": [
    "# Fills the NaN values in  series object with a specified value\n",
    "ser1 = pd.Series([3,5,8,9,5])\n",
    "ser1[2] = np.nan\n",
    "print(\"Check the series after filling nans: \\n\", ser1.fillna(12))"
   ]
  },
  {
   "cell_type": "code",
   "execution_count": null,
   "id": "312a58b9",
   "metadata": {},
   "outputs": [],
   "source": [
    "#floordiv methods\n",
    "ser1 = pd.Series([5,4,52,64,47,45])\n",
    "ser2 = pd.Series([10,20,20,40,40, 60])\n",
    "print(ser1.floordiv(ser2))"
   ]
  },
  {
   "cell_type": "code",
   "execution_count": null,
   "id": "e854f4fc",
   "metadata": {},
   "outputs": [],
   "source": [
    "# Grouping of series elements\n",
    "ser1 = pd.Series([23,34,56,76,53,54,55,87], index=['HR','HR','SALES','HR','SALES','HR','HR','SALES'])\n",
    "ser1.groupby(level=0).sum()"
   ]
  },
  {
   "cell_type": "code",
   "execution_count": null,
   "id": "8f7ea082",
   "metadata": {},
   "outputs": [],
   "source": [
    "#print the first 5 elements\n",
    "ser1 = pd.Series([23,34,56,76,53,54,55,87])\n",
    "ser1.head()"
   ]
  },
  {
   "cell_type": "code",
   "execution_count": null,
   "id": "1696eab3",
   "metadata": {},
   "outputs": [],
   "source": [
    "## idxmax returns the label or index of the maximum values in a series\n",
    "ser1 = pd.Series([23,34,56,76,53,54,55,87], index=['HR','Mkt','QUTY','MANU','FIN','ADVT','OPS','ITES'])\n",
    "ser1.idxmax()"
   ]
  },
  {
   "cell_type": "code",
   "execution_count": null,
   "id": "5128df61",
   "metadata": {},
   "outputs": [],
   "source": [
    "## idxmin returns the label or index of the minimum values in a series\n",
    "ser1 = pd.Series([23,34,56,76,53,54,55,87], index=['HR','Mkt','QUTY','MANU','FIN','ADVT','OPS','ITES'])\n",
    "ser1.idxmin()"
   ]
  },
  {
   "cell_type": "code",
   "execution_count": 16,
   "id": "fc49586c",
   "metadata": {
    "scrolled": true
   },
   "outputs": [
    {
     "data": {
      "text/plain": [
       "0    False\n",
       "1    False\n",
       "2    False\n",
       "3    False\n",
       "4    False\n",
       "5    False\n",
       "6    False\n",
       "7     True\n",
       "dtype: bool"
      ]
     },
     "execution_count": 16,
     "metadata": {},
     "output_type": "execute_result"
    }
   ],
   "source": [
    "#Check membership\n",
    "ser1 = pd.Series([23,34,56,76,53,54,55,87])\n",
    "ser1.isin([87])"
   ]
  },
  {
   "cell_type": "code",
   "execution_count": null,
   "id": "104aa4bb",
   "metadata": {},
   "outputs": [],
   "source": [
    "#Check existance of NaN values in series objects\n",
    "ser1 = pd.Series([23,34,56,76,53,54,55,87,None])\n",
    "ser1.isna()"
   ]
  },
  {
   "cell_type": "code",
   "execution_count": 19,
   "id": "72720879",
   "metadata": {},
   "outputs": [
    {
     "name": "stdout",
     "output_type": "stream",
     "text": [
      "0      50\n",
      "1      80\n",
      "2    1040\n",
      "3    2560\n",
      "4    1880\n",
      "5    2700\n",
      "dtype: int64\n"
     ]
    }
   ],
   "source": [
    "#multyply method\n",
    "ser1 = pd.Series([5,4,52,64,47,45])\n",
    "ser2 = pd.Series([10,20,20,40,40, 60])\n",
    "print(ser1.multiply(ser2))"
   ]
  },
  {
   "cell_type": "code",
   "execution_count": 18,
   "id": "b4b8851a",
   "metadata": {},
   "outputs": [
    {
     "data": {
      "text/plain": [
       "0     5\n",
       "1     4\n",
       "2    52\n",
       "3    98\n",
       "4    47\n",
       "5    45\n",
       "dtype: int64"
      ]
     },
     "execution_count": 18,
     "metadata": {},
     "output_type": "execute_result"
    }
   ],
   "source": [
    "#replace method replaces value in a series with other values\n",
    "ser1 = pd.Series([5,4,52,64,47,45])\n",
    "ser1.replace({64:98})"
   ]
  },
  {
   "cell_type": "markdown",
   "id": "4b5842da",
   "metadata": {},
   "source": [
    "#### Pandas Series 4"
   ]
  },
  {
   "cell_type": "code",
   "execution_count": 20,
   "id": "15c7cf3a",
   "metadata": {},
   "outputs": [
    {
     "name": "stdout",
     "output_type": "stream",
     "text": [
      "0    23.86\n",
      "1    34.76\n",
      "2    45.88\n",
      "3    53.99\n",
      "4    27.80\n",
      "5     5.88\n",
      "6     8.66\n",
      "dtype: float64\n"
     ]
    }
   ],
   "source": [
    "# Rounding of Series elements\n",
    "ser1 = pd.Series([23.856787,34.765,45.879,53.987,27.798,5.8755,8.6565])\n",
    "print(ser1.round(2))"
   ]
  },
  {
   "cell_type": "code",
   "execution_count": 24,
   "id": "cd07307e",
   "metadata": {},
   "outputs": [
    {
     "name": "stdout",
     "output_type": "stream",
     "text": [
      "17.82\n"
     ]
    }
   ],
   "source": [
    "# Find the standard deviation with std method\n",
    "ser1 = pd.Series([23, 45,34,53,27,5,8])\n",
    "stdv = ser1.std()\n",
    "print(round(stdv,2))"
   ]
  },
  {
   "cell_type": "code",
   "execution_count": 25,
   "id": "bbdc5bfb",
   "metadata": {},
   "outputs": [
    {
     "name": "stdout",
     "output_type": "stream",
     "text": [
      "0      HR\n",
      "1     Ykt\n",
      "2    QUTY\n",
      "3    YANU\n",
      "4     FIN\n",
      "5    ADVT\n",
      "6     OPS\n",
      "7    ITES\n",
      "dtype: object\n"
     ]
    }
   ],
   "source": [
    "# str enables string function to be applied on Series Objects\n",
    "ser1 = pd.Series(['HR','Mkt','QUTY','MANU','FIN','ADVT','OPS','ITES'])\n",
    "ser1_str = ser1.str.replace('M','Y')\n",
    "print(ser1_str)"
   ]
  },
  {
   "cell_type": "code",
   "execution_count": 26,
   "id": "b9f5bb41",
   "metadata": {},
   "outputs": [
    {
     "name": "stdout",
     "output_type": "stream",
     "text": [
      "0    -3\n",
      "1    21\n",
      "2   -82\n",
      "3   -52\n",
      "4    34\n",
      "5    24\n",
      "dtype: int64\n"
     ]
    }
   ],
   "source": [
    "#Subtraction of One series element from another\n",
    "ser1 = pd.Series([5,45,6,8,90,64])\n",
    "ser2 = pd.Series([8,24,88,60,56, 40])\n",
    "print(ser1.sub(ser2))"
   ]
  },
  {
   "cell_type": "code",
   "execution_count": 27,
   "id": "e7de39ce",
   "metadata": {},
   "outputs": [
    {
     "name": "stdout",
     "output_type": "stream",
     "text": [
      "{'HR': 23, 'Mkt': 34, 'QUTY': 56, 'MANU': 76, 'FIN': 53, 'ADVT': 54, 'OPS': 55, 'ITES': 87}\n"
     ]
    }
   ],
   "source": [
    "# Convert a Series oBject to Dictionary\n",
    "ser1 = pd.Series([23,34,56,76,53,54,55,87], index=['HR','Mkt','QUTY','MANU','FIN','ADVT','OPS','ITES'])\n",
    "ser1_dict = ser1.to_dict()\n",
    "print(ser1_dict)"
   ]
  },
  {
   "cell_type": "code",
   "execution_count": 30,
   "id": "22e9e39e",
   "metadata": {},
   "outputs": [
    {
     "ename": "ValueError",
     "evalue": "No engine for filetype: 'xls'",
     "output_type": "error",
     "traceback": [
      "\u001b[1;31m---------------------------------------------------------------------------\u001b[0m",
      "\u001b[1;31mOptionError\u001b[0m                               Traceback (most recent call last)",
      "File \u001b[1;32m~\\AppData\\Roaming\\Python\\Python311\\site-packages\\pandas\\io\\excel\\_base.py:1111\u001b[0m, in \u001b[0;36mExcelWriter.__new__\u001b[1;34m(cls, path, engine, date_format, datetime_format, mode, storage_options, if_sheet_exists, engine_kwargs)\u001b[0m\n\u001b[0;32m   1110\u001b[0m \u001b[38;5;28;01mtry\u001b[39;00m:\n\u001b[1;32m-> 1111\u001b[0m     engine \u001b[38;5;241m=\u001b[39m config\u001b[38;5;241m.\u001b[39mget_option(\u001b[38;5;124mf\u001b[39m\u001b[38;5;124m\"\u001b[39m\u001b[38;5;124mio.excel.\u001b[39m\u001b[38;5;132;01m{\u001b[39;00mext\u001b[38;5;132;01m}\u001b[39;00m\u001b[38;5;124m.writer\u001b[39m\u001b[38;5;124m\"\u001b[39m, silent\u001b[38;5;241m=\u001b[39m\u001b[38;5;28;01mTrue\u001b[39;00m)\n\u001b[0;32m   1112\u001b[0m     \u001b[38;5;28;01mif\u001b[39;00m engine \u001b[38;5;241m==\u001b[39m \u001b[38;5;124m\"\u001b[39m\u001b[38;5;124mauto\u001b[39m\u001b[38;5;124m\"\u001b[39m:\n",
      "File \u001b[1;32m~\\AppData\\Roaming\\Python\\Python311\\site-packages\\pandas\\_config\\config.py:261\u001b[0m, in \u001b[0;36mCallableDynamicDoc.__call__\u001b[1;34m(self, *args, **kwds)\u001b[0m\n\u001b[0;32m    260\u001b[0m \u001b[38;5;28;01mdef\u001b[39;00m \u001b[38;5;21m__call__\u001b[39m(\u001b[38;5;28mself\u001b[39m, \u001b[38;5;241m*\u001b[39margs, \u001b[38;5;241m*\u001b[39m\u001b[38;5;241m*\u001b[39mkwds) \u001b[38;5;241m-\u001b[39m\u001b[38;5;241m>\u001b[39m T:\n\u001b[1;32m--> 261\u001b[0m     \u001b[38;5;28;01mreturn\u001b[39;00m \u001b[38;5;28mself\u001b[39m\u001b[38;5;241m.\u001b[39m\u001b[38;5;18m__func__\u001b[39m(\u001b[38;5;241m*\u001b[39margs, \u001b[38;5;241m*\u001b[39m\u001b[38;5;241m*\u001b[39mkwds)\n",
      "File \u001b[1;32m~\\AppData\\Roaming\\Python\\Python311\\site-packages\\pandas\\_config\\config.py:135\u001b[0m, in \u001b[0;36m_get_option\u001b[1;34m(pat, silent)\u001b[0m\n\u001b[0;32m    134\u001b[0m \u001b[38;5;28;01mdef\u001b[39;00m \u001b[38;5;21m_get_option\u001b[39m(pat: \u001b[38;5;28mstr\u001b[39m, silent: \u001b[38;5;28mbool\u001b[39m \u001b[38;5;241m=\u001b[39m \u001b[38;5;28;01mFalse\u001b[39;00m) \u001b[38;5;241m-\u001b[39m\u001b[38;5;241m>\u001b[39m Any:\n\u001b[1;32m--> 135\u001b[0m     key \u001b[38;5;241m=\u001b[39m _get_single_key(pat, silent)\n\u001b[0;32m    137\u001b[0m     \u001b[38;5;66;03m# walk the nested dict\u001b[39;00m\n",
      "File \u001b[1;32m~\\AppData\\Roaming\\Python\\Python311\\site-packages\\pandas\\_config\\config.py:121\u001b[0m, in \u001b[0;36m_get_single_key\u001b[1;34m(pat, silent)\u001b[0m\n\u001b[0;32m    120\u001b[0m         _warn_if_deprecated(pat)\n\u001b[1;32m--> 121\u001b[0m     \u001b[38;5;28;01mraise\u001b[39;00m OptionError(\u001b[38;5;124mf\u001b[39m\u001b[38;5;124m\"\u001b[39m\u001b[38;5;124mNo such keys(s): \u001b[39m\u001b[38;5;132;01m{\u001b[39;00m\u001b[38;5;28mrepr\u001b[39m(pat)\u001b[38;5;132;01m}\u001b[39;00m\u001b[38;5;124m\"\u001b[39m)\n\u001b[0;32m    122\u001b[0m \u001b[38;5;28;01mif\u001b[39;00m \u001b[38;5;28mlen\u001b[39m(keys) \u001b[38;5;241m>\u001b[39m \u001b[38;5;241m1\u001b[39m:\n",
      "\u001b[1;31mOptionError\u001b[0m: No such keys(s): 'io.excel.xls.writer'",
      "\nThe above exception was the direct cause of the following exception:\n",
      "\u001b[1;31mValueError\u001b[0m                                Traceback (most recent call last)",
      "Cell \u001b[1;32mIn[30], line 4\u001b[0m\n\u001b[0;32m      1\u001b[0m \u001b[38;5;66;03m#Convert a series object to an Excel sheet (External File) with to_excel method\u001b[39;00m\n\u001b[0;32m      3\u001b[0m ser1 \u001b[38;5;241m=\u001b[39m pd\u001b[38;5;241m.\u001b[39mSeries([\u001b[38;5;241m23\u001b[39m,\u001b[38;5;241m34\u001b[39m,\u001b[38;5;241m56\u001b[39m,\u001b[38;5;241m76\u001b[39m,\u001b[38;5;241m53\u001b[39m,\u001b[38;5;241m54\u001b[39m,\u001b[38;5;241m55\u001b[39m,\u001b[38;5;241m87\u001b[39m], index\u001b[38;5;241m=\u001b[39m[\u001b[38;5;124m'\u001b[39m\u001b[38;5;124mHR\u001b[39m\u001b[38;5;124m'\u001b[39m,\u001b[38;5;124m'\u001b[39m\u001b[38;5;124mMkt\u001b[39m\u001b[38;5;124m'\u001b[39m,\u001b[38;5;124m'\u001b[39m\u001b[38;5;124mQUTY\u001b[39m\u001b[38;5;124m'\u001b[39m,\u001b[38;5;124m'\u001b[39m\u001b[38;5;124mMANU\u001b[39m\u001b[38;5;124m'\u001b[39m,\u001b[38;5;124m'\u001b[39m\u001b[38;5;124mFIN\u001b[39m\u001b[38;5;124m'\u001b[39m,\u001b[38;5;124m'\u001b[39m\u001b[38;5;124mADVT\u001b[39m\u001b[38;5;124m'\u001b[39m,\u001b[38;5;124m'\u001b[39m\u001b[38;5;124mOPS\u001b[39m\u001b[38;5;124m'\u001b[39m,\u001b[38;5;124m'\u001b[39m\u001b[38;5;124mITES\u001b[39m\u001b[38;5;124m'\u001b[39m])\n\u001b[1;32m----> 4\u001b[0m ser1dict \u001b[38;5;241m=\u001b[39m ser1\u001b[38;5;241m.\u001b[39mto_excel(\u001b[38;5;124m'\u001b[39m\u001b[38;5;124mser1.xls\u001b[39m\u001b[38;5;124m'\u001b[39m)\n",
      "File \u001b[1;32m~\\AppData\\Roaming\\Python\\Python311\\site-packages\\pandas\\core\\generic.py:2252\u001b[0m, in \u001b[0;36mNDFrame.to_excel\u001b[1;34m(self, excel_writer, sheet_name, na_rep, float_format, columns, header, index, index_label, startrow, startcol, engine, merge_cells, inf_rep, freeze_panes, storage_options)\u001b[0m\n\u001b[0;32m   2239\u001b[0m \u001b[38;5;28;01mfrom\u001b[39;00m \u001b[38;5;21;01mpandas\u001b[39;00m\u001b[38;5;21;01m.\u001b[39;00m\u001b[38;5;21;01mio\u001b[39;00m\u001b[38;5;21;01m.\u001b[39;00m\u001b[38;5;21;01mformats\u001b[39;00m\u001b[38;5;21;01m.\u001b[39;00m\u001b[38;5;21;01mexcel\u001b[39;00m \u001b[38;5;28;01mimport\u001b[39;00m ExcelFormatter\n\u001b[0;32m   2241\u001b[0m formatter \u001b[38;5;241m=\u001b[39m ExcelFormatter(\n\u001b[0;32m   2242\u001b[0m     df,\n\u001b[0;32m   2243\u001b[0m     na_rep\u001b[38;5;241m=\u001b[39mna_rep,\n\u001b[1;32m   (...)\u001b[0m\n\u001b[0;32m   2250\u001b[0m     inf_rep\u001b[38;5;241m=\u001b[39minf_rep,\n\u001b[0;32m   2251\u001b[0m )\n\u001b[1;32m-> 2252\u001b[0m formatter\u001b[38;5;241m.\u001b[39mwrite(\n\u001b[0;32m   2253\u001b[0m     excel_writer,\n\u001b[0;32m   2254\u001b[0m     sheet_name\u001b[38;5;241m=\u001b[39msheet_name,\n\u001b[0;32m   2255\u001b[0m     startrow\u001b[38;5;241m=\u001b[39mstartrow,\n\u001b[0;32m   2256\u001b[0m     startcol\u001b[38;5;241m=\u001b[39mstartcol,\n\u001b[0;32m   2257\u001b[0m     freeze_panes\u001b[38;5;241m=\u001b[39mfreeze_panes,\n\u001b[0;32m   2258\u001b[0m     engine\u001b[38;5;241m=\u001b[39mengine,\n\u001b[0;32m   2259\u001b[0m     storage_options\u001b[38;5;241m=\u001b[39mstorage_options,\n\u001b[0;32m   2260\u001b[0m )\n",
      "File \u001b[1;32m~\\AppData\\Roaming\\Python\\Python311\\site-packages\\pandas\\io\\formats\\excel.py:934\u001b[0m, in \u001b[0;36mExcelFormatter.write\u001b[1;34m(self, writer, sheet_name, startrow, startcol, freeze_panes, engine, storage_options)\u001b[0m\n\u001b[0;32m    930\u001b[0m     need_save \u001b[38;5;241m=\u001b[39m \u001b[38;5;28;01mFalse\u001b[39;00m\n\u001b[0;32m    931\u001b[0m \u001b[38;5;28;01melse\u001b[39;00m:\n\u001b[0;32m    932\u001b[0m     \u001b[38;5;66;03m# error: Cannot instantiate abstract class 'ExcelWriter' with abstract\u001b[39;00m\n\u001b[0;32m    933\u001b[0m     \u001b[38;5;66;03m# attributes 'engine', 'save', 'supported_extensions' and 'write_cells'\u001b[39;00m\n\u001b[1;32m--> 934\u001b[0m     writer \u001b[38;5;241m=\u001b[39m ExcelWriter(  \u001b[38;5;66;03m# type: ignore[abstract]\u001b[39;00m\n\u001b[0;32m    935\u001b[0m         writer, engine\u001b[38;5;241m=\u001b[39mengine, storage_options\u001b[38;5;241m=\u001b[39mstorage_options\n\u001b[0;32m    936\u001b[0m     )\n\u001b[0;32m    937\u001b[0m     need_save \u001b[38;5;241m=\u001b[39m \u001b[38;5;28;01mTrue\u001b[39;00m\n\u001b[0;32m    939\u001b[0m \u001b[38;5;28;01mtry\u001b[39;00m:\n",
      "File \u001b[1;32m~\\AppData\\Roaming\\Python\\Python311\\site-packages\\pandas\\io\\excel\\_base.py:1115\u001b[0m, in \u001b[0;36mExcelWriter.__new__\u001b[1;34m(cls, path, engine, date_format, datetime_format, mode, storage_options, if_sheet_exists, engine_kwargs)\u001b[0m\n\u001b[0;32m   1113\u001b[0m             engine \u001b[38;5;241m=\u001b[39m get_default_engine(ext, mode\u001b[38;5;241m=\u001b[39m\u001b[38;5;124m\"\u001b[39m\u001b[38;5;124mwriter\u001b[39m\u001b[38;5;124m\"\u001b[39m)\n\u001b[0;32m   1114\u001b[0m     \u001b[38;5;28;01mexcept\u001b[39;00m \u001b[38;5;167;01mKeyError\u001b[39;00m \u001b[38;5;28;01mas\u001b[39;00m err:\n\u001b[1;32m-> 1115\u001b[0m         \u001b[38;5;28;01mraise\u001b[39;00m \u001b[38;5;167;01mValueError\u001b[39;00m(\u001b[38;5;124mf\u001b[39m\u001b[38;5;124m\"\u001b[39m\u001b[38;5;124mNo engine for filetype: \u001b[39m\u001b[38;5;124m'\u001b[39m\u001b[38;5;132;01m{\u001b[39;00mext\u001b[38;5;132;01m}\u001b[39;00m\u001b[38;5;124m'\u001b[39m\u001b[38;5;124m\"\u001b[39m) \u001b[38;5;28;01mfrom\u001b[39;00m \u001b[38;5;21;01merr\u001b[39;00m\n\u001b[0;32m   1117\u001b[0m \u001b[38;5;66;03m# for mypy\u001b[39;00m\n\u001b[0;32m   1118\u001b[0m \u001b[38;5;28;01massert\u001b[39;00m engine \u001b[38;5;129;01mis\u001b[39;00m \u001b[38;5;129;01mnot\u001b[39;00m \u001b[38;5;28;01mNone\u001b[39;00m\n",
      "\u001b[1;31mValueError\u001b[0m: No engine for filetype: 'xls'"
     ]
    }
   ],
   "source": [
    "#Convert a series object to an Excel sheet (External File) with to_excel method\n",
    "\n",
    "ser1 = pd.Series([23,34,56,76,53,54,55,87], index=['HR','Mkt','QUTY','MANU','FIN','ADVT','OPS','ITES'])\n",
    "ser1dict = ser1.to_excel('ser1.xls')"
   ]
  },
  {
   "cell_type": "code",
   "execution_count": 31,
   "id": "5de7c59a",
   "metadata": {},
   "outputs": [
    {
     "name": "stdout",
     "output_type": "stream",
     "text": [
      "[23, 34, 56, 76, 53, 54, 55, 87]\n"
     ]
    }
   ],
   "source": [
    "# Convert a Series oBject to List object\n",
    "ser1 = pd.Series([23,34,56,76,53,54,55,87], index=['HR','Mkt','QUTY','MANU','FIN','ADVT','OPS','ITES'])\n",
    "ser1tolist = ser1.to_list()\n",
    "print(ser1tolist)"
   ]
  },
  {
   "cell_type": "code",
   "execution_count": 32,
   "id": "6bb92991",
   "metadata": {},
   "outputs": [
    {
     "name": "stdout",
     "output_type": "stream",
     "text": [
      "3    76\n",
      "4    53\n",
      "5    54\n",
      "6    55\n",
      "7    87\n",
      "dtype: int64\n",
      "0    23\n",
      "1    34\n",
      "2    56\n",
      "3    76\n",
      "dtype: int64\n"
     ]
    }
   ],
   "source": [
    "# trauncate a series object\n",
    "ser1 = pd.Series([23,34,56,76,53,54,55,87])\n",
    "sert1 = ser1.truncate(before=3)\n",
    "print(sert1)\n",
    "sert2= ser1.truncate(after=3)\n",
    "print(sert2)"
   ]
  },
  {
   "cell_type": "code",
   "execution_count": 34,
   "id": "136f88be",
   "metadata": {},
   "outputs": [
    {
     "name": "stdout",
     "output_type": "stream",
     "text": [
      "[23 34 56 76 53 54 55 87]\n"
     ]
    }
   ],
   "source": [
    "# Find unique element in a Series\n",
    "ser1 = pd.Series([23,34,56,76,53,53,54,55,55,87])\n",
    "sert1 = ser1.unique()\n",
    "print(sert1)"
   ]
  },
  {
   "cell_type": "code",
   "execution_count": 36,
   "id": "a31565ab",
   "metadata": {},
   "outputs": [
    {
     "name": "stdout",
     "output_type": "stream",
     "text": [
      "Tendulkar   Test    16000\n",
      "            ODIs    18000\n",
      "Sanggakara  Test    12000\n",
      "            ODIs    14000\n",
      "Ponting     Test    13000\n",
      "            ODIs    13000\n",
      "dtype: int64\n"
     ]
    }
   ],
   "source": [
    "# Create Multi-Leveled Index objects\n",
    "index = [('Tendulkar','Test'),('Tendulkar','ODIs'),('Sanggakara','Test'),('Sanggakara','ODIs'),('Ponting','Test'),('Ponting','ODIs')]\n",
    "runs = [16000, 18000, 12000, 14000, 13000, 13000] \n",
    "index = pd.MultiIndex.from_tuples(index)\n",
    "records = pd.Series(runs, index=index)\n",
    "print(records)"
   ]
  },
  {
   "cell_type": "markdown",
   "id": "44625a2d",
   "metadata": {},
   "source": [
    "#### Accessing multi series level object"
   ]
  },
  {
   "cell_type": "code",
   "execution_count": 38,
   "id": "c18ec5b7",
   "metadata": {},
   "outputs": [
    {
     "name": "stdout",
     "output_type": "stream",
     "text": [
      "Print all of Sanggakar's Record: \n",
      " Test    12000\n",
      "ODIs    14000\n",
      "dtype: int64\n",
      "Print all of Tendulkar's ODI Record: \n",
      " 18000\n"
     ]
    }
   ],
   "source": [
    "print(\"Print all of Sanggakar's Record: \\n\",records.loc['Sanggakara'])\n",
    "print(\"Print all of Tendulkar's ODI Record: \\n\",records.loc['Tendulkar','ODIs'])"
   ]
  }
 ],
 "metadata": {
  "kernelspec": {
   "display_name": "Python 3 (ipykernel)",
   "language": "python",
   "name": "python3"
  },
  "language_info": {
   "codemirror_mode": {
    "name": "ipython",
    "version": 3
   },
   "file_extension": ".py",
   "mimetype": "text/x-python",
   "name": "python",
   "nbconvert_exporter": "python",
   "pygments_lexer": "ipython3",
   "version": "3.11.3"
  }
 },
 "nbformat": 4,
 "nbformat_minor": 5
}
