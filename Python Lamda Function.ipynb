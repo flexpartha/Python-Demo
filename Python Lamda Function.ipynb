{
 "cells": [
  {
   "cell_type": "markdown",
   "id": "d37608aa",
   "metadata": {},
   "source": [
    "## Map, Reduce, filter and Lamda function"
   ]
  },
  {
   "cell_type": "markdown",
   "id": "25dece6a",
   "metadata": {},
   "source": [
    "###### Lamda function are inline anonymous function.It contains only one expression has no exlicit return statment.Lamda function are fast in exicutain than traditional functions"
   ]
  },
  {
   "cell_type": "markdown",
   "id": "a0aaaf15",
   "metadata": {},
   "source": [
    "Lamda is a mechanism for building functions (or more preciously function object)\n",
    "- Lamda function can contain only single expression\n",
    "- Can be nameless\n",
    "- Inline\n",
    "- Cleaner to use to be in case of single use\n",
    "- They return a function object"
   ]
  },
  {
   "cell_type": "code",
   "execution_count": 1,
   "id": "35f97d69",
   "metadata": {},
   "outputs": [
    {
     "name": "stdout",
     "output_type": "stream",
     "text": [
      "Cube of 9 is,729\n",
      "Time taken by traditional method: 0 ms\n",
      "\n",
      "Cube of 9 is,729\n",
      "Time taken by lambda function: 0 ms\n",
      "\n",
      "Cube of 9 is,729\n",
      "Time taken by inline lambda function: 0 ms\n",
      "\n"
     ]
    }
   ],
   "source": [
    "# In the following code, we will perform an operation to find the cube of a given number\n",
    "# To do that, we will use three different method:\n",
    "# Using traditional python function using def method\n",
    "# Create a named Lambda function\n",
    "# Use an inline Lamda function\n",
    "\n",
    "from time import time_ns\n",
    "\n",
    "def cubed(x):\n",
    "    return x**3\n",
    "lambda_cubed = lambda x:x**3\n",
    "\n",
    "start = time_ns() # Return time in nanoseconds since epoch (JAN 1, 1970)\n",
    "\n",
    "print(f\"Cube of 9 is,{cubed(9)}\")\n",
    "print(f\"Time taken by traditional method: {(time_ns()-start)//1000} ms\\n\")\n",
    "\n",
    "start = time_ns()\n",
    "\n",
    "print(f\"Cube of 9 is,{lambda_cubed(9)}\")\n",
    "print(f\"Time taken by lambda function: {(time_ns()-start)//1000} ms\\n\")\n",
    "\n",
    "start = time_ns()\n",
    "\n",
    "print(f\"Cube of 9 is,{(lambda x:x**3)(9)}\")\n",
    "print(f\"Time taken by inline lambda function: {(time_ns()-start)//1000} ms\\n\")"
   ]
  },
  {
   "cell_type": "markdown",
   "id": "01061d25",
   "metadata": {},
   "source": [
    "### Using map() function"
   ]
  },
  {
   "cell_type": "markdown",
   "id": "4610e0eb",
   "metadata": {},
   "source": [
    "###### Syntax of the lambda function\n",
    "###### map(lambda item:item[] expression, iterable )"
   ]
  },
  {
   "cell_type": "code",
   "execution_count": 2,
   "id": "eb0098a6",
   "metadata": {},
   "outputs": [
    {
     "name": "stdout",
     "output_type": "stream",
     "text": [
      "[13, 30, 16, 34, 96]\n"
     ]
    }
   ],
   "source": [
    "numbers = [4,5,7,9,23]\n",
    "mapped_numbers = list(map(lambda x: x^3 + x^2, numbers))\n",
    "print(mapped_numbers)"
   ]
  },
  {
   "cell_type": "code",
   "execution_count": 8,
   "id": "62f72527",
   "metadata": {},
   "outputs": [
    {
     "name": "stdout",
     "output_type": "stream",
     "text": [
      "0b10100\n"
     ]
    }
   ],
   "source": [
    "# How to convert int value to binary\n",
    "print(bin(20))"
   ]
  },
  {
   "cell_type": "code",
   "execution_count": 10,
   "id": "b62bb8d8",
   "metadata": {},
   "outputs": [
    {
     "name": "stdout",
     "output_type": "stream",
     "text": [
      "20\n"
     ]
    }
   ],
   "source": [
    "# How to convert binary value to int\n",
    "print(int(0b10100))"
   ]
  },
  {
   "cell_type": "code",
   "execution_count": 15,
   "id": "2557bd59",
   "metadata": {},
   "outputs": [
    {
     "name": "stdout",
     "output_type": "stream",
     "text": [
      "6\n",
      "0b10000\n"
     ]
    }
   ],
   "source": [
    "# Bitwise XOR operation\n",
    "# Sets each bit to 1 if only one of two bits is 1\n",
    "x = 4            # 00010100\n",
    "y = 2             # 00000100\n",
    "print(x ^ y)      # 00010000\n",
    "print(bin(16))"
   ]
  },
  {
   "cell_type": "code",
   "execution_count": 18,
   "id": "12a1da02",
   "metadata": {},
   "outputs": [
    {
     "data": {
      "text/html": [
       "<div>\n",
       "<style scoped>\n",
       "    .dataframe tbody tr th:only-of-type {\n",
       "        vertical-align: middle;\n",
       "    }\n",
       "\n",
       "    .dataframe tbody tr th {\n",
       "        vertical-align: top;\n",
       "    }\n",
       "\n",
       "    .dataframe thead th {\n",
       "        text-align: right;\n",
       "    }\n",
       "</style>\n",
       "<table border=\"1\" class=\"dataframe\">\n",
       "  <thead>\n",
       "    <tr style=\"text-align: right;\">\n",
       "      <th></th>\n",
       "      <th>country</th>\n",
       "      <th>year</th>\n",
       "      <th>pop</th>\n",
       "      <th>continent</th>\n",
       "      <th>lifeExp</th>\n",
       "      <th>gdpPercap</th>\n",
       "    </tr>\n",
       "  </thead>\n",
       "  <tbody>\n",
       "    <tr>\n",
       "      <th>0</th>\n",
       "      <td>Afghanistan</td>\n",
       "      <td>1952</td>\n",
       "      <td>8425333.0</td>\n",
       "      <td>Asia</td>\n",
       "      <td>28.801</td>\n",
       "      <td>779.445314</td>\n",
       "    </tr>\n",
       "    <tr>\n",
       "      <th>1</th>\n",
       "      <td>Afghanistan</td>\n",
       "      <td>1957</td>\n",
       "      <td>9240934.0</td>\n",
       "      <td>Asia</td>\n",
       "      <td>30.332</td>\n",
       "      <td>820.853030</td>\n",
       "    </tr>\n",
       "    <tr>\n",
       "      <th>2</th>\n",
       "      <td>Afghanistan</td>\n",
       "      <td>1962</td>\n",
       "      <td>10267083.0</td>\n",
       "      <td>Asia</td>\n",
       "      <td>31.997</td>\n",
       "      <td>853.100710</td>\n",
       "    </tr>\n",
       "    <tr>\n",
       "      <th>3</th>\n",
       "      <td>Afghanistan</td>\n",
       "      <td>1967</td>\n",
       "      <td>11537966.0</td>\n",
       "      <td>Asia</td>\n",
       "      <td>34.020</td>\n",
       "      <td>836.197138</td>\n",
       "    </tr>\n",
       "    <tr>\n",
       "      <th>4</th>\n",
       "      <td>Afghanistan</td>\n",
       "      <td>1972</td>\n",
       "      <td>13079460.0</td>\n",
       "      <td>Asia</td>\n",
       "      <td>36.088</td>\n",
       "      <td>739.981106</td>\n",
       "    </tr>\n",
       "    <tr>\n",
       "      <th>...</th>\n",
       "      <td>...</td>\n",
       "      <td>...</td>\n",
       "      <td>...</td>\n",
       "      <td>...</td>\n",
       "      <td>...</td>\n",
       "      <td>...</td>\n",
       "    </tr>\n",
       "    <tr>\n",
       "      <th>1699</th>\n",
       "      <td>Zimbabwe</td>\n",
       "      <td>1987</td>\n",
       "      <td>9216418.0</td>\n",
       "      <td>Africa</td>\n",
       "      <td>62.351</td>\n",
       "      <td>706.157306</td>\n",
       "    </tr>\n",
       "    <tr>\n",
       "      <th>1700</th>\n",
       "      <td>Zimbabwe</td>\n",
       "      <td>1992</td>\n",
       "      <td>10704340.0</td>\n",
       "      <td>Africa</td>\n",
       "      <td>60.377</td>\n",
       "      <td>693.420786</td>\n",
       "    </tr>\n",
       "    <tr>\n",
       "      <th>1701</th>\n",
       "      <td>Zimbabwe</td>\n",
       "      <td>1997</td>\n",
       "      <td>11404948.0</td>\n",
       "      <td>Africa</td>\n",
       "      <td>46.809</td>\n",
       "      <td>792.449960</td>\n",
       "    </tr>\n",
       "    <tr>\n",
       "      <th>1702</th>\n",
       "      <td>Zimbabwe</td>\n",
       "      <td>2002</td>\n",
       "      <td>11926563.0</td>\n",
       "      <td>Africa</td>\n",
       "      <td>39.989</td>\n",
       "      <td>672.038623</td>\n",
       "    </tr>\n",
       "    <tr>\n",
       "      <th>1703</th>\n",
       "      <td>Zimbabwe</td>\n",
       "      <td>2007</td>\n",
       "      <td>12311143.0</td>\n",
       "      <td>Africa</td>\n",
       "      <td>43.487</td>\n",
       "      <td>469.709298</td>\n",
       "    </tr>\n",
       "  </tbody>\n",
       "</table>\n",
       "<p>1704 rows × 6 columns</p>\n",
       "</div>"
      ],
      "text/plain": [
       "          country  year         pop continent  lifeExp   gdpPercap\n",
       "0     Afghanistan  1952   8425333.0      Asia   28.801  779.445314\n",
       "1     Afghanistan  1957   9240934.0      Asia   30.332  820.853030\n",
       "2     Afghanistan  1962  10267083.0      Asia   31.997  853.100710\n",
       "3     Afghanistan  1967  11537966.0      Asia   34.020  836.197138\n",
       "4     Afghanistan  1972  13079460.0      Asia   36.088  739.981106\n",
       "...           ...   ...         ...       ...      ...         ...\n",
       "1699     Zimbabwe  1987   9216418.0    Africa   62.351  706.157306\n",
       "1700     Zimbabwe  1992  10704340.0    Africa   60.377  693.420786\n",
       "1701     Zimbabwe  1997  11404948.0    Africa   46.809  792.449960\n",
       "1702     Zimbabwe  2002  11926563.0    Africa   39.989  672.038623\n",
       "1703     Zimbabwe  2007  12311143.0    Africa   43.487  469.709298\n",
       "\n",
       "[1704 rows x 6 columns]"
      ]
     },
     "execution_count": 18,
     "metadata": {},
     "output_type": "execute_result"
    }
   ],
   "source": [
    "# Create DataFrame from Gapminder Data\n",
    "import pandas as pd\n",
    "gm_df = pd.read_csv(\"C:/Users/parth/OneDrive/Desktop/PythonProjects/gapminder-FiveYearData.csv\")\n",
    "gm_df"
   ]
  },
  {
   "cell_type": "code",
   "execution_count": 19,
   "id": "09c0da80",
   "metadata": {},
   "outputs": [
    {
     "data": {
      "text/html": [
       "<div>\n",
       "<style scoped>\n",
       "    .dataframe tbody tr th:only-of-type {\n",
       "        vertical-align: middle;\n",
       "    }\n",
       "\n",
       "    .dataframe tbody tr th {\n",
       "        vertical-align: top;\n",
       "    }\n",
       "\n",
       "    .dataframe thead th {\n",
       "        text-align: right;\n",
       "    }\n",
       "</style>\n",
       "<table border=\"1\" class=\"dataframe\">\n",
       "  <thead>\n",
       "    <tr style=\"text-align: right;\">\n",
       "      <th></th>\n",
       "      <th>country</th>\n",
       "      <th>year</th>\n",
       "      <th>pop</th>\n",
       "      <th>continent</th>\n",
       "      <th>lifeExp</th>\n",
       "      <th>gdpPercap</th>\n",
       "      <th>LifeExp_Der</th>\n",
       "    </tr>\n",
       "  </thead>\n",
       "  <tbody>\n",
       "    <tr>\n",
       "      <th>0</th>\n",
       "      <td>Afghanistan</td>\n",
       "      <td>1952</td>\n",
       "      <td>8425333.0</td>\n",
       "      <td>Asia</td>\n",
       "      <td>28.801</td>\n",
       "      <td>779.445314</td>\n",
       "      <td>34.5612</td>\n",
       "    </tr>\n",
       "    <tr>\n",
       "      <th>1</th>\n",
       "      <td>Afghanistan</td>\n",
       "      <td>1957</td>\n",
       "      <td>9240934.0</td>\n",
       "      <td>Asia</td>\n",
       "      <td>30.332</td>\n",
       "      <td>820.853030</td>\n",
       "      <td>36.3984</td>\n",
       "    </tr>\n",
       "    <tr>\n",
       "      <th>2</th>\n",
       "      <td>Afghanistan</td>\n",
       "      <td>1962</td>\n",
       "      <td>10267083.0</td>\n",
       "      <td>Asia</td>\n",
       "      <td>31.997</td>\n",
       "      <td>853.100710</td>\n",
       "      <td>38.3964</td>\n",
       "    </tr>\n",
       "    <tr>\n",
       "      <th>3</th>\n",
       "      <td>Afghanistan</td>\n",
       "      <td>1967</td>\n",
       "      <td>11537966.0</td>\n",
       "      <td>Asia</td>\n",
       "      <td>34.020</td>\n",
       "      <td>836.197138</td>\n",
       "      <td>40.8240</td>\n",
       "    </tr>\n",
       "    <tr>\n",
       "      <th>4</th>\n",
       "      <td>Afghanistan</td>\n",
       "      <td>1972</td>\n",
       "      <td>13079460.0</td>\n",
       "      <td>Asia</td>\n",
       "      <td>36.088</td>\n",
       "      <td>739.981106</td>\n",
       "      <td>43.3056</td>\n",
       "    </tr>\n",
       "    <tr>\n",
       "      <th>...</th>\n",
       "      <td>...</td>\n",
       "      <td>...</td>\n",
       "      <td>...</td>\n",
       "      <td>...</td>\n",
       "      <td>...</td>\n",
       "      <td>...</td>\n",
       "      <td>...</td>\n",
       "    </tr>\n",
       "    <tr>\n",
       "      <th>1699</th>\n",
       "      <td>Zimbabwe</td>\n",
       "      <td>1987</td>\n",
       "      <td>9216418.0</td>\n",
       "      <td>Africa</td>\n",
       "      <td>62.351</td>\n",
       "      <td>706.157306</td>\n",
       "      <td>74.8212</td>\n",
       "    </tr>\n",
       "    <tr>\n",
       "      <th>1700</th>\n",
       "      <td>Zimbabwe</td>\n",
       "      <td>1992</td>\n",
       "      <td>10704340.0</td>\n",
       "      <td>Africa</td>\n",
       "      <td>60.377</td>\n",
       "      <td>693.420786</td>\n",
       "      <td>72.4524</td>\n",
       "    </tr>\n",
       "    <tr>\n",
       "      <th>1701</th>\n",
       "      <td>Zimbabwe</td>\n",
       "      <td>1997</td>\n",
       "      <td>11404948.0</td>\n",
       "      <td>Africa</td>\n",
       "      <td>46.809</td>\n",
       "      <td>792.449960</td>\n",
       "      <td>56.1708</td>\n",
       "    </tr>\n",
       "    <tr>\n",
       "      <th>1702</th>\n",
       "      <td>Zimbabwe</td>\n",
       "      <td>2002</td>\n",
       "      <td>11926563.0</td>\n",
       "      <td>Africa</td>\n",
       "      <td>39.989</td>\n",
       "      <td>672.038623</td>\n",
       "      <td>47.9868</td>\n",
       "    </tr>\n",
       "    <tr>\n",
       "      <th>1703</th>\n",
       "      <td>Zimbabwe</td>\n",
       "      <td>2007</td>\n",
       "      <td>12311143.0</td>\n",
       "      <td>Africa</td>\n",
       "      <td>43.487</td>\n",
       "      <td>469.709298</td>\n",
       "      <td>52.1844</td>\n",
       "    </tr>\n",
       "  </tbody>\n",
       "</table>\n",
       "<p>1704 rows × 7 columns</p>\n",
       "</div>"
      ],
      "text/plain": [
       "          country  year         pop continent  lifeExp   gdpPercap  \\\n",
       "0     Afghanistan  1952   8425333.0      Asia   28.801  779.445314   \n",
       "1     Afghanistan  1957   9240934.0      Asia   30.332  820.853030   \n",
       "2     Afghanistan  1962  10267083.0      Asia   31.997  853.100710   \n",
       "3     Afghanistan  1967  11537966.0      Asia   34.020  836.197138   \n",
       "4     Afghanistan  1972  13079460.0      Asia   36.088  739.981106   \n",
       "...           ...   ...         ...       ...      ...         ...   \n",
       "1699     Zimbabwe  1987   9216418.0    Africa   62.351  706.157306   \n",
       "1700     Zimbabwe  1992  10704340.0    Africa   60.377  693.420786   \n",
       "1701     Zimbabwe  1997  11404948.0    Africa   46.809  792.449960   \n",
       "1702     Zimbabwe  2002  11926563.0    Africa   39.989  672.038623   \n",
       "1703     Zimbabwe  2007  12311143.0    Africa   43.487  469.709298   \n",
       "\n",
       "      LifeExp_Der  \n",
       "0         34.5612  \n",
       "1         36.3984  \n",
       "2         38.3964  \n",
       "3         40.8240  \n",
       "4         43.3056  \n",
       "...           ...  \n",
       "1699      74.8212  \n",
       "1700      72.4524  \n",
       "1701      56.1708  \n",
       "1702      47.9868  \n",
       "1703      52.1844  \n",
       "\n",
       "[1704 rows x 7 columns]"
      ]
     },
     "execution_count": 19,
     "metadata": {},
     "output_type": "execute_result"
    }
   ],
   "source": [
    "# Following is an example where you apply the map() function along with lambda function on a DataFrame column\n",
    "\n",
    "gm_df['LifeExp_Der'] = list(map(lambda x:x*1.2,gm_df['lifeExp']))\n",
    "gm_df"
   ]
  },
  {
   "cell_type": "code",
   "execution_count": 23,
   "id": "1b776be4",
   "metadata": {},
   "outputs": [],
   "source": [
    "#Define an aggregation function\n",
    "def cumul(x,y):\n",
    "    result = x * y\n",
    "    print(f\"{x} * {y} = {result}\")\n",
    "    return result"
   ]
  },
  {
   "cell_type": "code",
   "execution_count": 24,
   "id": "6a8fe593",
   "metadata": {},
   "outputs": [
    {
     "name": "stdout",
     "output_type": "stream",
     "text": [
      "4 * 5 = 20\n",
      "20\n"
     ]
    }
   ],
   "source": [
    "print(cumul(4,5))"
   ]
  },
  {
   "cell_type": "code",
   "execution_count": 25,
   "id": "61e6d0ed",
   "metadata": {},
   "outputs": [],
   "source": [
    "numbers = [4,5,6,3,8]"
   ]
  },
  {
   "cell_type": "code",
   "execution_count": 26,
   "id": "ecd6b5e7",
   "metadata": {},
   "outputs": [
    {
     "name": "stdout",
     "output_type": "stream",
     "text": [
      "4 * 5 = 20\n",
      "20 * 6 = 120\n",
      "120 * 3 = 360\n",
      "360 * 8 = 2880\n",
      "2880\n"
     ]
    }
   ],
   "source": [
    "from functools import reduce\n",
    "out = reduce(cumul,numbers)\n",
    "print(out)"
   ]
  },
  {
   "cell_type": "markdown",
   "id": "3fd38c6e",
   "metadata": {},
   "source": [
    "### Now using Reduce with Lambda function"
   ]
  },
  {
   "cell_type": "code",
   "execution_count": 27,
   "id": "ee8c3f7e",
   "metadata": {},
   "outputs": [],
   "source": [
    "cuml_l = lambda x, y:x*y"
   ]
  },
  {
   "cell_type": "code",
   "execution_count": 28,
   "id": "bcc0fe8d",
   "metadata": {},
   "outputs": [
    {
     "name": "stdout",
     "output_type": "stream",
     "text": [
      "2880\n"
     ]
    }
   ],
   "source": [
    "out1 = reduce(cuml_l, numbers)\n",
    "print(out1)"
   ]
  },
  {
   "cell_type": "code",
   "execution_count": null,
   "id": "84003560",
   "metadata": {},
   "outputs": [],
   "source": []
  }
 ],
 "metadata": {
  "kernelspec": {
   "display_name": "Python 3 (ipykernel)",
   "language": "python",
   "name": "python3"
  },
  "language_info": {
   "codemirror_mode": {
    "name": "ipython",
    "version": 3
   },
   "file_extension": ".py",
   "mimetype": "text/x-python",
   "name": "python",
   "nbconvert_exporter": "python",
   "pygments_lexer": "ipython3",
   "version": "3.11.3"
  }
 },
 "nbformat": 4,
 "nbformat_minor": 5
}
