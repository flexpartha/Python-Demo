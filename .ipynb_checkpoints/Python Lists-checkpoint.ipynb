{
 "cells": [
  {
   "cell_type": "markdown",
   "id": "3118b49b",
   "metadata": {},
   "source": [
    "#### Collection Objects in Python"
   ]
  },
  {
   "cell_type": "code",
   "execution_count": 1,
   "id": "0bd76e18",
   "metadata": {},
   "outputs": [
    {
     "name": "stdout",
     "output_type": "stream",
     "text": [
      "[10, 2, 123, 67, 34]\n"
     ]
    }
   ],
   "source": [
    "# Create first list\n",
    "lst1 = [10,2,123,67,34]\n",
    "print(lst1)"
   ]
  },
  {
   "cell_type": "code",
   "execution_count": 3,
   "id": "61ac1cbd",
   "metadata": {},
   "outputs": [
    {
     "name": "stdout",
     "output_type": "stream",
     "text": [
      "['Jimi', 500, True, 3.8, 3000, 2019]\n",
      "Demonstrate Mutability:- ['Jimi', 500, False, 3.8, 3000, 2019]\n"
     ]
    }
   ],
   "source": [
    "# create a List with Multiple types of Data and change them after creation\n",
    "lst1 = [\"Jimi\", 500, True, 3.8, 3000, 2019]\n",
    "print(lst1)\n",
    "lst1[2] = False\n",
    "print(\"Demonstrate Mutability:-\",lst1)"
   ]
  },
  {
   "cell_type": "code",
   "execution_count": 10,
   "id": "ae63c995",
   "metadata": {},
   "outputs": [
    {
     "name": "stdout",
     "output_type": "stream",
     "text": [
      "Last position Value from above List:-- 2019\n",
      "3rd Element from last of the List::-- 500\n"
     ]
    }
   ],
   "source": [
    "# Access List with relative position\n",
    "lst1 = [\"Jimi\", 500, True, 3.8, 3000, 2019]\n",
    "print(\"Last position Value from above List:--\", lst1[5])\n",
    "print(\"3rd Element from last of the List::--\", lst1[-5])"
   ]
  },
  {
   "cell_type": "markdown",
   "id": "3ca71d9d",
   "metadata": {},
   "source": [
    "#### Slicing List"
   ]
  },
  {
   "cell_type": "code",
   "execution_count": 8,
   "id": "3527f525",
   "metadata": {},
   "outputs": [
    {
     "name": "stdout",
     "output_type": "stream",
     "text": [
      "['Somnath Temple', 'Varanashi Temple', 'Traimbekeshar temple']\n",
      "['Kedarnath Temple', 'Somnath Temple']\n"
     ]
    }
   ],
   "source": [
    "# Access Cross section of Lists\n",
    "\n",
    "lst1 = ['Kedarnath Temple', 'Somnath Temple', 'Varanashi Temple', 'Traimbekeshar temple', 'Ramesharam Temple']\n",
    "print(lst1[1:4])\n",
    "print(lst1[:2])"
   ]
  },
  {
   "cell_type": "markdown",
   "id": "799ca649",
   "metadata": {},
   "source": [
    "#### Sriding"
   ]
  },
  {
   "cell_type": "code",
   "execution_count": 11,
   "id": "da7a4487",
   "metadata": {},
   "outputs": [
    {
     "name": "stdout",
     "output_type": "stream",
     "text": [
      "[2, 4, 6, 8, 10, 12]\n"
     ]
    }
   ],
   "source": [
    "# Access Cross section of Lists with Stride\n",
    "lst1 = [1,2,3,4,5,6,7,8,9,10,11,12,13,14]\n",
    "print(lst1[1:12:2])"
   ]
  },
  {
   "cell_type": "markdown",
   "id": "af260e00",
   "metadata": {},
   "source": [
    "#### Adding element in List"
   ]
  },
  {
   "cell_type": "code",
   "execution_count": 13,
   "id": "9167d5c1",
   "metadata": {},
   "outputs": [
    {
     "name": "stdout",
     "output_type": "stream",
     "text": [
      "[1, 2, 3, 4, 5, 6, 7, 8, 9, 10, 0, 1, 2, 3, 4]\n"
     ]
    }
   ],
   "source": [
    "# Adding single elements in Lists\n",
    "lst1 = [1,2,3,4,5,6,7,8,9,10]\n",
    "for x in range(5):\n",
    "    lst1.append(x)\n",
    "print(lst1)"
   ]
  },
  {
   "cell_type": "code",
   "execution_count": 15,
   "id": "1e80b6b4",
   "metadata": {},
   "outputs": [
    {
     "name": "stdout",
     "output_type": "stream",
     "text": [
      "[1, 2, 3, 4, 5, 6, 7, 8, 9, 10, 11, 12, 13, 14]\n"
     ]
    }
   ],
   "source": [
    "# Adding multiple elements in Lists\n",
    "lst1 = [1,2,3,4,5,6,7,8,9,10]\n",
    "lst1.extend([11,12,13,14])\n",
    "print(lst1)"
   ]
  },
  {
   "cell_type": "code",
   "execution_count": 16,
   "id": "d6d53a2b",
   "metadata": {},
   "outputs": [
    {
     "name": "stdout",
     "output_type": "stream",
     "text": [
      "[1, 2, 3, 4, 5, 6, 7, 8, 9, 10, 5, 8, 9]\n"
     ]
    }
   ],
   "source": [
    "# Adding multiple elements in Lists in another way\n",
    "lst1 = [1,2,3,4,5,6,7,8,9,10]\n",
    "lst2 = [5,8,9]\n",
    "lst1+=lst2\n",
    "print(lst1)"
   ]
  },
  {
   "cell_type": "markdown",
   "id": "d5d4f94f",
   "metadata": {},
   "source": [
    "#### Removing elements in List"
   ]
  },
  {
   "cell_type": "code",
   "execution_count": 20,
   "id": "6b6fbb5a",
   "metadata": {},
   "outputs": [
    {
     "name": "stdout",
     "output_type": "stream",
     "text": [
      "After pop [1, 2, 3, 4, 5, 6, 7, 8, 9]\n",
      "After pop of 4th Element [1, 2, 3, 5, 6, 7, 8, 9]\n"
     ]
    }
   ],
   "source": [
    "# Removing element by pop method\n",
    "lst1 = [1,2,3,4,5,6,7,8,9,10]\n",
    "lst1.pop()\n",
    "print(\"After pop\",lst1)\n",
    "lst1.pop(3)\n",
    "print(\"After pop of 4th Element\",lst1)"
   ]
  },
  {
   "cell_type": "code",
   "execution_count": 21,
   "id": "beab4a1d",
   "metadata": {},
   "outputs": [
    {
     "name": "stdout",
     "output_type": "stream",
     "text": [
      "['Kedarnath Temple', 'Varanashi Temple', 'Traimbekeshar temple', 'Ramesharam Temple']\n"
     ]
    }
   ],
   "source": [
    "# Removing element by Remove method\n",
    "lst1 = ['Kedarnath Temple', 'Somnath Temple', 'Varanashi Temple', 'Traimbekeshar temple', 'Ramesharam Temple']\n",
    "lst1.remove('Somnath Temple')\n",
    "print(lst1)"
   ]
  },
  {
   "cell_type": "code",
   "execution_count": 24,
   "id": "aaad57fb",
   "metadata": {},
   "outputs": [
    {
     "name": "stdout",
     "output_type": "stream",
     "text": [
      "['Kedarnath Temple', 'Somnath Temple', 'Traimbekeshar temple', 'Ramesharam Temple']\n"
     ]
    }
   ],
   "source": [
    "# Removing element by del keyword\n",
    "lst1 = ['Kedarnath Temple', 'Somnath Temple', 'Varanashi Temple', 'Traimbekeshar temple', 'Ramesharam Temple']\n",
    "del lst1[2:3]\n",
    "print(lst1)"
   ]
  },
  {
   "cell_type": "code",
   "execution_count": null,
   "id": "d6900066",
   "metadata": {},
   "outputs": [],
   "source": []
  }
 ],
 "metadata": {
  "kernelspec": {
   "display_name": "Python 3 (ipykernel)",
   "language": "python",
   "name": "python3"
  },
  "language_info": {
   "codemirror_mode": {
    "name": "ipython",
    "version": 3
   },
   "file_extension": ".py",
   "mimetype": "text/x-python",
   "name": "python",
   "nbconvert_exporter": "python",
   "pygments_lexer": "ipython3",
   "version": "3.11.3"
  }
 },
 "nbformat": 4,
 "nbformat_minor": 5
}
