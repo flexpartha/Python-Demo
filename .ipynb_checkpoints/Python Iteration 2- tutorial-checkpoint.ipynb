{
 "cells": [
  {
   "cell_type": "markdown",
   "id": "8637c3c7",
   "metadata": {},
   "source": [
    "#### Python iteration II"
   ]
  },
  {
   "cell_type": "code",
   "execution_count": 1,
   "id": "2d4ab9f0",
   "metadata": {},
   "outputs": [
    {
     "name": "stdout",
     "output_type": "stream",
     "text": [
      "4  is being processed\n",
      "5  is being processed\n",
      "6  is being processed\n",
      "7  is being processed\n",
      "8  is being processed\n"
     ]
    }
   ],
   "source": [
    "# Example of 'for' loop for numeric Range with custom start and end values\n",
    "\n",
    "for x in range(4,9):\n",
    "    print(x, \" is being processed\")"
   ]
  },
  {
   "cell_type": "code",
   "execution_count": 8,
   "id": "9d1f5c80",
   "metadata": {},
   "outputs": [
    {
     "name": "stdout",
     "output_type": "stream",
     "text": [
      "2  is being processed\n",
      "4  is being processed\n",
      "6  is being processed\n",
      "8  is being processed\n",
      "10  is being processed\n",
      "12  is being processed\n"
     ]
    }
   ],
   "source": [
    "# Example of 'for' loop for numeric Range with custom start and end values and step amount\n",
    "\n",
    "for x in range(2,14,2):\n",
    "    print(x, \" is being processed\")"
   ]
  },
  {
   "cell_type": "markdown",
   "id": "ddfad457",
   "metadata": {},
   "source": [
    "#### Custom Iterator"
   ]
  },
  {
   "cell_type": "code",
   "execution_count": 9,
   "id": "3435f247",
   "metadata": {},
   "outputs": [
    {
     "name": "stdout",
     "output_type": "stream",
     "text": [
      "5\n",
      "10\n",
      "15\n",
      "20\n",
      "25\n"
     ]
    }
   ],
   "source": [
    "# Creating a Custom Range iterotor\n",
    "def cust_range(start_val, end_val, step_val):\n",
    "    while start_val <= end_val:\n",
    "        yield start_val\n",
    "        start_val += step_val\n",
    "for x in cust_range(5,25,5):\n",
    "    print(x)"
   ]
  },
  {
   "cell_type": "markdown",
   "id": "54321539",
   "metadata": {},
   "source": [
    "#### Break continue and pass statements"
   ]
  },
  {
   "cell_type": "code",
   "execution_count": 13,
   "id": "6ce2d80d",
   "metadata": {},
   "outputs": [
    {
     "name": "stdout",
     "output_type": "stream",
     "text": [
      "5  is being processed\n",
      "10  is being processed\n",
      "15  is being processed\n",
      "20  is being processed\n",
      "Breaking away...\n"
     ]
    }
   ],
   "source": [
    "# Example of Breaking away from a loop\n",
    "for x in range(5,31,5):\n",
    "    print(x, \" is being processed\")\n",
    "    if x == 20:\n",
    "        print(\"Breaking away...\")\n",
    "        break"
   ]
  },
  {
   "cell_type": "code",
   "execution_count": 15,
   "id": "76fca27b",
   "metadata": {},
   "outputs": [
    {
     "name": "stdout",
     "output_type": "stream",
     "text": [
      "5  is being processed\n",
      "10  is being processed\n",
      "15  is being processed\n",
      "Continue to the top of the Loop\n",
      "25  is being processed\n",
      "30  is being processed\n"
     ]
    }
   ],
   "source": [
    "# Example of Continueing in a loop\n",
    "for x in range(5,31,5):\n",
    "    if x == 20:\n",
    "        print(\"Continue to the top of the Loop\")\n",
    "        continue\n",
    "    print(x, \" is being processed\")"
   ]
  },
  {
   "cell_type": "code",
   "execution_count": 16,
   "id": "2561a9bb",
   "metadata": {},
   "outputs": [
    {
     "name": "stdout",
     "output_type": "stream",
     "text": [
      "5  is being processed\n",
      "10  is being processed\n",
      "15  is being processed\n",
      "Continue to the top of the Loop\n",
      "20  is being processed\n",
      "25  is being processed\n",
      "30  is being processed\n"
     ]
    }
   ],
   "source": [
    "# Example of pass in a for loop\n",
    "\n",
    "for x in range(5,31,5):\n",
    "    if x == 20:\n",
    "        print(\"Continue to the top of the Loop\")\n",
    "        pass\n",
    "    print(x, \" is being processed\")"
   ]
  },
  {
   "cell_type": "code",
   "execution_count": null,
   "id": "598c7bab",
   "metadata": {},
   "outputs": [],
   "source": []
  }
 ],
 "metadata": {
  "kernelspec": {
   "display_name": "Python 3 (ipykernel)",
   "language": "python",
   "name": "python3"
  },
  "language_info": {
   "codemirror_mode": {
    "name": "ipython",
    "version": 3
   },
   "file_extension": ".py",
   "mimetype": "text/x-python",
   "name": "python",
   "nbconvert_exporter": "python",
   "pygments_lexer": "ipython3",
   "version": "3.11.3"
  }
 },
 "nbformat": 4,
 "nbformat_minor": 5
}
