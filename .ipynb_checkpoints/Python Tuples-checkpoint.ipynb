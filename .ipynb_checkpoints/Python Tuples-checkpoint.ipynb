{
 "cells": [
  {
   "cell_type": "markdown",
   "id": "7d7254f0",
   "metadata": {},
   "source": [
    "### TUPLES"
   ]
  },
  {
   "cell_type": "markdown",
   "id": "14f9b675",
   "metadata": {},
   "source": [
    "###### Tuples is an Order sequence of Items same as list. The only difference is that Tuples are immutable"
   ]
  },
  {
   "cell_type": "code",
   "execution_count": 1,
   "id": "cde34b55",
   "metadata": {},
   "outputs": [
    {
     "name": "stdout",
     "output_type": "stream",
     "text": [
      "Content of an empty tuple ()\n",
      "Content with an  tuple (1, 2, 3, 4, 5, 6)\n",
      "Nested tuple (1, 5, (7, 3, 9), 5, 4)\n",
      "Content of Tuple with Nested List (1, 5, (7, 3, 9), 5, 4, [8, 10, 56])\n",
      "Content of Tuple with mixed valuest ('Rohit', 'Dhoni', 7, 3, 9, True, 4500)\n"
     ]
    }
   ],
   "source": [
    "# Creating toples in various ways\n",
    "tup1 = () \n",
    "print(\"Content of an empty tuple\", tup1)\n",
    "tup1 =(1,2,3,4,5,6)\n",
    "print(\"Content with an  tuple\", tup1)\n",
    "\n",
    "tup1 = (1,5,(7,3,9),5,4) \n",
    "print(\"Nested tuple\", tup1)\n",
    "\n",
    "tup1 = (1,5,(7,3,9),5,4,[8,10,56]) \n",
    "print(\"Content of Tuple with Nested List\", tup1)\n",
    "tup1 = ('Rohit','Dhoni',7,3,9,True, 4500) \n",
    "print(\"Content of Tuple with mixed valuest\", tup1)"
   ]
  },
  {
   "cell_type": "code",
   "execution_count": 8,
   "id": "44d4ec58",
   "metadata": {},
   "outputs": [
    {
     "name": "stdout",
     "output_type": "stream",
     "text": [
      "(1, 2, 3, 4, 5, 6)\n",
      "('Name', 'Salary')\n",
      "('P', 'A', 'R', 'T', 'H', 'A')\n"
     ]
    }
   ],
   "source": [
    "# Creating tuple with tuple function\n",
    "lst1 =[1,2,3,4,5,6]\n",
    "tup1 = tuple(lst1)\n",
    "print(tup1)\n",
    "dict1 = {\"Name\":\"ABCD\",\"Salary\": 8900}\n",
    "tup2 = tuple(dict1)\n",
    "print(tup2)\n",
    "str = \"PARTHA\"\n",
    "tup3 = tuple(str);\n",
    "print(tup3)"
   ]
  },
  {
   "cell_type": "markdown",
   "id": "75bf1b6f",
   "metadata": {},
   "source": [
    "#### Accessing Tuple Elements"
   ]
  },
  {
   "cell_type": "code",
   "execution_count": 9,
   "id": "0fcf5eee",
   "metadata": {},
   "outputs": [
    {
     "name": "stdout",
     "output_type": "stream",
     "text": [
      "Last position Value from above List:-- 2019\n",
      "3rd Element from last of the List::-- 500\n"
     ]
    }
   ],
   "source": [
    "# Accessing tuples with relative position\n",
    "tup1 = (\"Jimi\", 500, True, 3.8, 3000, 2019)\n",
    "print(\"Last position Value from above List:--\", tup1[5])\n",
    "print(\"3rd Element from last of the List::--\", tup1[-5])"
   ]
  },
  {
   "cell_type": "code",
   "execution_count": 10,
   "id": "237abf4c",
   "metadata": {},
   "outputs": [
    {
     "name": "stdout",
     "output_type": "stream",
     "text": [
      "('Somnath Temple', 'Varanashi Temple', 'Traimbekeshar temple')\n",
      "('Kedarnath Temple', 'Somnath Temple')\n"
     ]
    }
   ],
   "source": [
    "# Access Cross section of Tuples\n",
    "\n",
    "tup1 = ('Kedarnath Temple', 'Somnath Temple', 'Varanashi Temple', 'Traimbekeshar temple', 'Ramesharam Temple')\n",
    "print(tup1[1:4])\n",
    "print(tup1[:2])"
   ]
  },
  {
   "cell_type": "code",
   "execution_count": 11,
   "id": "27fe4bf3",
   "metadata": {},
   "outputs": [
    {
     "name": "stdout",
     "output_type": "stream",
     "text": [
      "(2, 4, 6, 8, 10, 12)\n"
     ]
    }
   ],
   "source": [
    "# Access Cross section of Tuple  with Stride\n",
    "tup1 = (1,2,3,4,5,6,7,8,9,10,11,12,13,14)\n",
    "print(tup1[1:12:2])"
   ]
  },
  {
   "cell_type": "code",
   "execution_count": 4,
   "id": "043be4f6",
   "metadata": {},
   "outputs": [
    {
     "name": "stdout",
     "output_type": "stream",
     "text": [
      "5\n"
     ]
    }
   ],
   "source": [
    "# Index- Returns the zero based (positive) index of the first element matching the value\n",
    "tup1 =(1,2,3,4,5,6,7,8)\n",
    "print(tup1.index(6))"
   ]
  },
  {
   "cell_type": "code",
   "execution_count": 3,
   "id": "53474b08",
   "metadata": {},
   "outputs": [
    {
     "name": "stdout",
     "output_type": "stream",
     "text": [
      "1\n"
     ]
    }
   ],
   "source": [
    "# Count- indicating how many times the same number is in the tuples\n",
    "tup1 =(4,5,7,8,34,45,8,5)\n",
    "print(tup1.count(34))"
   ]
  },
  {
   "cell_type": "code",
   "execution_count": 18,
   "id": "04fac32a",
   "metadata": {},
   "outputs": [
    {
     "name": "stdout",
     "output_type": "stream",
     "text": [
      "True\n",
      "False\n"
     ]
    }
   ],
   "source": [
    "# Any - Any method returns true if any of the elements True\n",
    "tup1 =(4,5,7,8,34,45,8,5)\n",
    "tup2 = (0,0)\n",
    "print(any(tup1))\n",
    "print(any(tup2))"
   ]
  },
  {
   "cell_type": "code",
   "execution_count": 6,
   "id": "d78b56d4",
   "metadata": {},
   "outputs": [
    {
     "name": "stdout",
     "output_type": "stream",
     "text": [
      "False\n",
      "True\n"
     ]
    }
   ],
   "source": [
    "# All - Returns True if all the elements in the tuples are true\n",
    "tup1 = (1,2,3,4,5,6,7,8,9,10,11,12,13,14,0)\n",
    "tup2 =(1,1,1,1)\n",
    "print(all(tup1))\n",
    "print(all(tup2))"
   ]
  },
  {
   "cell_type": "code",
   "execution_count": 7,
   "id": "26962373",
   "metadata": {},
   "outputs": [
    {
     "name": "stdout",
     "output_type": "stream",
     "text": [
      "[(0, 'Kedarnath Temple'), (1, 'Somnath Temple'), (2, 'Varanashi Temple'), (3, 'Traimbekeshar temple'), (4, 'Ramesharam Temple')]\n"
     ]
    }
   ],
   "source": [
    "# Enumerate - The enumerate method takes in an iterable (Tuple in this case) adds a sequence number\n",
    "tup1 = ('Kedarnath Temple', 'Somnath Temple', 'Varanashi Temple', 'Traimbekeshar temple', 'Ramesharam Temple')\n",
    "print(list(enumerate(tup1)))"
   ]
  },
  {
   "cell_type": "code",
   "execution_count": 9,
   "id": "821e4cb3",
   "metadata": {},
   "outputs": [
    {
     "name": "stdout",
     "output_type": "stream",
     "text": [
      "[(1, 'Kedarnath Temple'), (2, 'Somnath Temple'), (3, 'Varanashi Temple'), (4, 'Traimbekeshar temple'), (5, 'Ramesharam Temple')]\n"
     ]
    }
   ],
   "source": [
    "# Zip - is a built in python function that takes in two sequence and returns a combined pair set\n",
    "tup1 = (1,2,3,4,5)\n",
    "tup2 = ('Kedarnath Temple', 'Somnath Temple', 'Varanashi Temple', 'Traimbekeshar temple', 'Ramesharam Temple')\n",
    "print(list(zip(tup1,tup2)))"
   ]
  },
  {
   "cell_type": "code",
   "execution_count": 13,
   "id": "1e92aec0",
   "metadata": {},
   "outputs": [
    {
     "name": "stdout",
     "output_type": "stream",
     "text": [
      "Sorted: ['Kedarnath Temple', 'Ramesharam Temple', 'Somnath Temple', 'Traimbekeshar temple', 'Varanashi Temple']\n",
      "Reverse Sorted::-- ['Varanashi Temple', 'Traimbekeshar temple', 'Somnath Temple', 'Ramesharam Temple', 'Kedarnath Temple']\n"
     ]
    }
   ],
   "source": [
    "# Sorted - Returns a sorted List of the passed Tuple\n",
    "res = sorted(('Kedarnath Temple', 'Somnath Temple', 'Varanashi Temple', 'Traimbekeshar temple', 'Ramesharam Temple'))\n",
    "print(\"Sorted:\", res)\n",
    "rev = sorted(('Kedarnath Temple', 'Somnath Temple', 'Varanashi Temple', 'Traimbekeshar temple', 'Ramesharam Temple'), reverse = True)\n",
    "print(\"Reverse Sorted::--\",rev)"
   ]
  },
  {
   "cell_type": "code",
   "execution_count": 14,
   "id": "b9ef5417",
   "metadata": {},
   "outputs": [
    {
     "name": "stdout",
     "output_type": "stream",
     "text": [
      "Reversed::-- ['Ramesharam Temple', 'Traimbekeshar temple', 'Varanashi Temple', 'Somnath Temple', 'Kedarnath Temple']\n"
     ]
    }
   ],
   "source": [
    "# Returns a reversed iterator of the sequence that is passed as a parameter\n",
    "tup2 = ('Kedarnath Temple', 'Somnath Temple', 'Varanashi Temple', 'Traimbekeshar temple', 'Ramesharam Temple')\n",
    "res = list(reversed(tup2))\n",
    "print(\"Reversed::--\",res)"
   ]
  },
  {
   "cell_type": "code",
   "execution_count": 15,
   "id": "e2872171",
   "metadata": {},
   "outputs": [
    {
     "name": "stdout",
     "output_type": "stream",
     "text": [
      "Maximum Number is::-- 14\n"
     ]
    }
   ],
   "source": [
    "# Max - Returns the maximum value from the tuple\n",
    "tup1 = (1,2,3,4,5,6,7,8,9,10,11,12,13,14)\n",
    "print(\"Maximum Number is::--\",max(tup1))"
   ]
  },
  {
   "cell_type": "code",
   "execution_count": 16,
   "id": "5af5d59c",
   "metadata": {},
   "outputs": [
    {
     "name": "stdout",
     "output_type": "stream",
     "text": [
      "Total of Tuple::-- 105\n"
     ]
    }
   ],
   "source": [
    "# Return maximum value from Tuple\n",
    "tup1 = (1,2,3,4,5,6,7,8,9,10,11,12,13,14)\n",
    "print(\"Total of Tuple::--\",sum(tup1))"
   ]
  },
  {
   "cell_type": "code",
   "execution_count": null,
   "id": "b1a47f66",
   "metadata": {},
   "outputs": [],
   "source": [
    "# Copy using Deep Copy\n"
   ]
  }
 ],
 "metadata": {
  "kernelspec": {
   "display_name": "Python 3 (ipykernel)",
   "language": "python",
   "name": "python3"
  },
  "language_info": {
   "codemirror_mode": {
    "name": "ipython",
    "version": 3
   },
   "file_extension": ".py",
   "mimetype": "text/x-python",
   "name": "python",
   "nbconvert_exporter": "python",
   "pygments_lexer": "ipython3",
   "version": "3.11.3"
  }
 },
 "nbformat": 4,
 "nbformat_minor": 5
}
