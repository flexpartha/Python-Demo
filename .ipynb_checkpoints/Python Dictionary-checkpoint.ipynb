{
 "cells": [
  {
   "cell_type": "markdown",
   "id": "f18717b2",
   "metadata": {},
   "source": [
    "## Dictionaries"
   ]
  },
  {
   "cell_type": "markdown",
   "id": "1be53bb5",
   "metadata": {},
   "source": [
    "###### A Dictionary in Python is a sequence or Collection of Key:Value pairs"
   ]
  },
  {
   "cell_type": "code",
   "execution_count": 1,
   "id": "3733a35f",
   "metadata": {},
   "outputs": [
    {
     "name": "stdout",
     "output_type": "stream",
     "text": [
      "{'Tran_Id': 'T0089', 'Cust_Id': 'C000867', 'ATM_Location': 'HSR Layout', 'Acc_Type': 'Savings'}\n"
     ]
    }
   ],
   "source": [
    "# create your FIrst Dictionary\n",
    "dict_trans = {\"Tran_Id\":\"T0089\",\"Cust_Id\":\"C000867\",\"ATM_Location\":\"HSR Layout\",\"Acc_Type\":\"Savings\"}\n",
    "print()"
   ]
  },
  {
   "cell_type": "code",
   "execution_count": 2,
   "id": "e7e5e218",
   "metadata": {},
   "outputs": [
    {
     "name": "stdout",
     "output_type": "stream",
     "text": [
      "{'Tran_Id': 'T0089', 'Cust_Id': 'C000867', 'ATM_Location': 'HSR Layout', 'Acc_Type': 'Savings', 'Cust_Trans': \"['T001''T002,'T005']\"}\n"
     ]
    }
   ],
   "source": [
    "# create your Forst Dictionary with a List as one of the values\n",
    "dict_trans_Lst = {\"Tran_Id\":\"T0089\",\"Cust_Id\":\"C000867\",\"ATM_Location\":\"HSR Layout\",\"Acc_Type\":\"Savings\",\"Cust_Trans\":\"['T001''T002,'T005']\"}\n",
    "print(dict_trans_Lst)"
   ]
  },
  {
   "cell_type": "code",
   "execution_count": 4,
   "id": "0db4153b",
   "metadata": {},
   "outputs": [
    {
     "name": "stdout",
     "output_type": "stream",
     "text": [
      "{'Cust_Id': 'C000867', 'Cust_Trans': \"['T001''T002,'T005']\"}\n"
     ]
    }
   ],
   "source": [
    "# Create a Dictionary from a set of Tuples in a List using the Dict Method\n",
    "dict_trans = dict([(\"Cust_Id\",\"C000867\"),(\"Cust_Trans\",\"['T001''T002,'T005']\")])\n",
    "print(dict_trans)"
   ]
  },
  {
   "cell_type": "code",
   "execution_count": 5,
   "id": "64c6eac8",
   "metadata": {},
   "outputs": [
    {
     "name": "stdout",
     "output_type": "stream",
     "text": [
      "{'Cust_Id': 'C000867', 'Cust_Trans': 'T001'}\n"
     ]
    }
   ],
   "source": [
    "# Populate from an empty dictionary\n",
    "dict_trans ={}\n",
    "dict_trans[\"Cust_Id\"] = \"C000867\"\n",
    "dict_trans[\"Cust_Trans\"] = \"T001\"\n",
    "print(dict_trans)"
   ]
  },
  {
   "cell_type": "code",
   "execution_count": 6,
   "id": "c05ab85e",
   "metadata": {},
   "outputs": [
    {
     "name": "stdout",
     "output_type": "stream",
     "text": [
      "Transaction Id::-- T0089\n",
      "Print Acc_Type::-- Savings\n"
     ]
    }
   ],
   "source": [
    "# Accessing Dictionary Elements by using \"Keys\" to acess the \"Values\"\n",
    "dict_trans = {\"Tran_Id\":\"T0089\",\"Cust_Id\":\"C000867\",\"ATM_Location\":\"HSR Layout\",\"Acc_Type\":\"Savings\"}\n",
    "print(\"Transaction Id::--\",dict_trans[\"Tran_Id\"])\n",
    "print(\"Print Acc_Type::--\",dict_trans['Acc_Type'])"
   ]
  },
  {
   "cell_type": "code",
   "execution_count": 7,
   "id": "be7a03a1",
   "metadata": {},
   "outputs": [
    {
     "name": "stdout",
     "output_type": "stream",
     "text": [
      "Transaction Id::-- T0089\n",
      "Transaction Info:-- {'Acc_Type': 'Savings', 'Amount': '9876543'}\n",
      "Amount Salary Drawn::-- 9876543\n"
     ]
    }
   ],
   "source": [
    "# Accessing Dictionary Elements by using \"Keys\" to acess the \"Values\" -- Nested Dictionaries\n",
    "dict_trans = {\"Tran_Id\":\"T0089\",\"Cust_Id\":\"C000867\",\"Trans_Info\":{\"Acc_Type\":\"Savings\",\"Amount\":\"9876543\"}}\n",
    "print(\"Transaction Id::--\",dict_trans['Tran_Id'])\n",
    "print(\"Transaction Info:--\",dict_trans['Trans_Info'])\n",
    "print(\"Amount Salary Drawn::--\", dict_trans['Trans_Info']['Amount'])"
   ]
  },
  {
   "cell_type": "code",
   "execution_count": 9,
   "id": "14e5bb2c",
   "metadata": {},
   "outputs": [
    {
     "name": "stdout",
     "output_type": "stream",
     "text": [
      "{'Tran_Id': 'T0089', 'Cust_Id': 'C000867', 'ATM_Location': 'HSR Layout', 'Acc_Type': 'Savings', 'Amount': '8000'}\n"
     ]
    }
   ],
   "source": [
    "# Adding an Elements (key:value) by value assignment against a new key\n",
    "\n",
    "dict_trans = {\"Tran_Id\":\"T0089\",\"Cust_Id\":\"C000867\",\"ATM_Location\":\"HSR Layout\",\"Acc_Type\":\"Savings\"}\n",
    "dict_trans[\"Amount\"] = \"8000\"\n",
    "print(dict_trans)"
   ]
  },
  {
   "cell_type": "code",
   "execution_count": 10,
   "id": "20c6b157",
   "metadata": {},
   "outputs": [
    {
     "name": "stdout",
     "output_type": "stream",
     "text": [
      "Updated Dictionary::-- {'Tran_Id': 'T0089', 'Cust_Id': 'C000867', 'Acc_Type': 'Savings', 'ATM_Location': 'HSR Layout', 'Amount': '67890'}\n"
     ]
    }
   ],
   "source": [
    "# Adding an Elements (key:value) by value assignment against a new key by Update dictionary\n",
    "dict_trans = {\"Tran_Id\":\"T0089\",\"Cust_Id\":\"C000867\",\"Acc_Type\":\"Savings\"}\n",
    "dict_trans.update({\"ATM_Location\":\"HSR Layout\",\"Amount\":\"67890\"})\n",
    "print(\"Updated Dictionary::--\",dict_trans)"
   ]
  },
  {
   "cell_type": "code",
   "execution_count": 12,
   "id": "ecc6a9f5",
   "metadata": {},
   "outputs": [
    {
     "name": "stdout",
     "output_type": "stream",
     "text": [
      "{'Tran_Id': 'T0089', 'Cust_Id': 'C000867', 'ATM_Location': 'HSR Layout'}\n"
     ]
    }
   ],
   "source": [
    "# Deleting an element from Dictionary\n",
    "dict_trans = {\"Tran_Id\":\"T0089\",\"Cust_Id\":\"C000867\",\"ATM_Location\":\"HSR Layout\",\"Acc_Type\":\"Savings\"}\n",
    "del (dict_trans[\"Acc_Type\"])\n",
    "print(dict_trans)\n"
   ]
  },
  {
   "cell_type": "code",
   "execution_count": 13,
   "id": "d3b76e1d",
   "metadata": {},
   "outputs": [
    {
     "name": "stdout",
     "output_type": "stream",
     "text": [
      "{'Tran_Id': 'T0089', 'Cust_Id': 'C000867', 'ATM_Location': 'HSR Layout'}\n",
      "Savings\n"
     ]
    }
   ],
   "source": [
    "# Deleting an element from Dictionary with pop() method\n",
    "dict_trans = {\"Tran_Id\":\"T0089\",\"Cust_Id\":\"C000867\",\"ATM_Location\":\"HSR Layout\",\"Acc_Type\":\"Savings\"}\n",
    "popped = dict_trans.pop(\"Acc_Type\")\n",
    "print(dict_trans)\n",
    "print(popped)"
   ]
  },
  {
   "cell_type": "code",
   "execution_count": 15,
   "id": "aab15153",
   "metadata": {},
   "outputs": [
    {
     "name": "stdout",
     "output_type": "stream",
     "text": [
      "Key Specified is not fount in dict_trans\n"
     ]
    }
   ],
   "source": [
    "# Deleting an element from Dictionary with pop() trapping the keyError\n",
    "dict_trans = {\"Tran_Id\":\"T0089\",\"Cust_Id\":\"C000867\",\"ATM_Location\":\"HSR Layout\",\"Acc_Type\":\"Savings\"}\n",
    "try: \n",
    "    popped = dict_trans.pop(\"Acc_Type1\")\n",
    "    print(dict_trans)\n",
    "    print(popped)\n",
    "except KeyError:\n",
    "    print(\"Key Specified is not found in dict_trans\")"
   ]
  },
  {
   "cell_type": "code",
   "execution_count": 16,
   "id": "22b7ede1",
   "metadata": {},
   "outputs": [
    {
     "name": "stdout",
     "output_type": "stream",
     "text": [
      "{}\n"
     ]
    }
   ],
   "source": [
    "# Clear or Deleting all elements from a Dictionary\n",
    "dict_trans = {\"Tran_Id\":\"T0089\",\"Cust_Id\":\"C000867\",\"ATM_Location\":\"HSR Layout\",\"Acc_Type\":\"Savings\"}\n",
    "dict_trans.clear()\n",
    "print(dict_trans)"
   ]
  },
  {
   "cell_type": "code",
   "execution_count": 17,
   "id": "5f6bf9f6",
   "metadata": {},
   "outputs": [
    {
     "name": "stdout",
     "output_type": "stream",
     "text": [
      "C000867\n"
     ]
    }
   ],
   "source": [
    "# get the value of the specified keys\n",
    "dict_trans = {\"Tran_Id\":\"T0089\",\"Cust_Id\":\"C000867\",\"ATM_Location\":\"HSR Layout\",\"Acc_Type\":\"Savings\"}\n",
    "print(dict_trans.get(\"Cust_Id\"))"
   ]
  },
  {
   "cell_type": "markdown",
   "id": "60b14b25",
   "metadata": {},
   "source": [
    "### Python Dictionaries series 2"
   ]
  },
  {
   "cell_type": "code",
   "execution_count": 18,
   "id": "243ade68",
   "metadata": {},
   "outputs": [
    {
     "name": "stdout",
     "output_type": "stream",
     "text": [
      "dict_items([('Tran_Id', 'T0089'), ('Cust_Id', 'C000867'), ('ATM_Location', 'HSR Layout'), ('Acc_Type', 'Savings')])\n"
     ]
    }
   ],
   "source": [
    "# Returns key:value pair from dictionary in the form of a list of Tuple\n",
    "dict_trans = {\"Tran_Id\":\"T0089\",\"Cust_Id\":\"C000867\",\"ATM_Location\":\"HSR Layout\",\"Acc_Type\":\"Savings\"}\n",
    "dict_items = dict_trans.items()\n",
    "print(dict_items)"
   ]
  },
  {
   "cell_type": "code",
   "execution_count": 19,
   "id": "6669b669",
   "metadata": {},
   "outputs": [
    {
     "name": "stdout",
     "output_type": "stream",
     "text": [
      "dict_keys(['Tran_Id', 'Cust_Id', 'ATM_Location', 'Acc_Type'])\n"
     ]
    }
   ],
   "source": [
    "# Returns all the keys in the dictionary\n",
    "dict_trans = {\"Tran_Id\":\"T0089\",\"Cust_Id\":\"C000867\",\"ATM_Location\":\"HSR Layout\",\"Acc_Type\":\"Savings\"}\n",
    "dict_keys = dict_trans.keys()\n",
    "print(dict_keys)"
   ]
  },
  {
   "cell_type": "code",
   "execution_count": 20,
   "id": "d9165ed6",
   "metadata": {},
   "outputs": [
    {
     "name": "stdout",
     "output_type": "stream",
     "text": [
      "dict_values(['T0089', 'C000867', 'HSR Layout', 'Savings'])\n"
     ]
    }
   ],
   "source": [
    "# Returns all the values in the dictionary\n",
    "dict_trans = {\"Tran_Id\":\"T0089\",\"Cust_Id\":\"C000867\",\"ATM_Location\":\"HSR Layout\",\"Acc_Type\":\"Savings\"}\n",
    "dict_values = dict_trans.values()\n",
    "print(dict_values)"
   ]
  },
  {
   "cell_type": "code",
   "execution_count": 22,
   "id": "6fa2e1b2",
   "metadata": {},
   "outputs": [
    {
     "name": "stdout",
     "output_type": "stream",
     "text": [
      "('Acc_Type', 'Savings')\n"
     ]
    }
   ],
   "source": [
    "#popItems - Removes the last inserted value:key pairs\n",
    "dict_trans = {\"Tran_Id\":\"T0089\",\"Cust_Id\":\"C000867\",\"ATM_Location\":\"HSR Layout\",\"Acc_Type\":\"Savings\"}\n",
    "popped = dict_trans.popitem()\n",
    "print(popped)"
   ]
  },
  {
   "cell_type": "code",
   "execution_count": 7,
   "id": "75f6c6bb",
   "metadata": {},
   "outputs": [
    {
     "name": "stdout",
     "output_type": "stream",
     "text": [
      "Print the updated dictionary Pass-1 {'Tran_Id': 'T0089', 'Cust_Id': 'C000867', 'ATM_Location': 'HSR Layout', 'Acc_Type': 'Savings', 'Amount': '9008', 'New_field': '6789'}\n",
      "Print the updated dictionary Pass-2 {'Tran_Id': 'T0089', 'Cust_Id': 'C000867', 'ATM_Location': 'HSR Layout', 'Acc_Type': 'Savings', 'Amount': '9008', 'New_field': '6789'}\n",
      "Checking the return value 9008\n"
     ]
    }
   ],
   "source": [
    "# Insert a key:value pair. If pair exists, return the value\n",
    "dict_trans = {\"Tran_Id\":\"T0089\",\"Cust_Id\":\"C000867\",\"ATM_Location\":\"HSR Layout\",\"Acc_Type\":\"Savings\",\"Amount\": \"9008\"}\n",
    "dict_trans.setdefault(\"New_field\",'6789')\n",
    "print(\"Print the updated dictionary Pass-1\",dict_trans)\n",
    "ret = dict_trans.setdefault(\"Amount\",'6789')\n",
    "print(\"Print the updated dictionary Pass-2\",dict_trans)\n",
    "print(\"Checking the return value\",ret)\n"
   ]
  },
  {
   "cell_type": "code",
   "execution_count": 11,
   "id": "7116127f",
   "metadata": {},
   "outputs": [
    {
     "name": "stdout",
     "output_type": "stream",
     "text": [
      "key:  Tran_Id ---value:  T0089\n",
      "key:  Cust_Id ---value:  C000867\n",
      "key:  ATM_Location ---value:  HSR Layout\n",
      "key:  Acc_Type ---value:  Savings\n",
      "key:  Amount ---value:  9008\n"
     ]
    }
   ],
   "source": [
    "# Iterate thru a dictionary\n",
    "dict_trans = {\"Tran_Id\":\"T0089\",\"Cust_Id\":\"C000867\",\"ATM_Location\":\"HSR Layout\",\"Acc_Type\":\"Savings\",\"Amount\": \"9008\"}\n",
    "for x in dict_trans:\n",
    "    print(\"key: \", x, \"---value: \", dict_trans[x])"
   ]
  },
  {
   "cell_type": "code",
   "execution_count": null,
   "id": "8c9e16cb",
   "metadata": {},
   "outputs": [],
   "source": []
  }
 ],
 "metadata": {
  "kernelspec": {
   "display_name": "Python 3 (ipykernel)",
   "language": "python",
   "name": "python3"
  },
  "language_info": {
   "codemirror_mode": {
    "name": "ipython",
    "version": 3
   },
   "file_extension": ".py",
   "mimetype": "text/x-python",
   "name": "python",
   "nbconvert_exporter": "python",
   "pygments_lexer": "ipython3",
   "version": "3.11.3"
  }
 },
 "nbformat": 4,
 "nbformat_minor": 5
}
