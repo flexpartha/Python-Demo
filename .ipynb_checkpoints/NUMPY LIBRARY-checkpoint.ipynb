{
 "cells": [
  {
   "cell_type": "markdown",
   "id": "9593ae0d",
   "metadata": {},
   "source": [
    "## NUMPY LIBRARY"
   ]
  },
  {
   "cell_type": "markdown",
   "id": "b709a491",
   "metadata": {},
   "source": [
    "Data that we deal with comes in various shapes and form and originate from various sources, however at the end all of them can be fundamentally represented as array of Numeric digits\n",
    "\n",
    "Some example as follows:\n",
    "\n",
    "- Data that are fundamentally numeric(Financial Transaction amount, Your Monthly income, number of time visited in a website last 7 days) \n",
    "- sound: Stored as a one dimensional array of frequency vs time\n",
    "- Images: Stored as a two dimensional numeric arrays representing business values of each pixel over an area\n",
    "- Text: can be represented as numeric digits as well in various ways "
   ]
  },
  {
   "cell_type": "code",
   "execution_count": 1,
   "id": "1c25f67c",
   "metadata": {},
   "outputs": [],
   "source": [
    "# Need to import Numpy Library to use it\n",
    "import numpy as np"
   ]
  },
  {
   "cell_type": "markdown",
   "id": "a44bbac6",
   "metadata": {},
   "source": [
    "##### Creating Array"
   ]
  },
  {
   "cell_type": "code",
   "execution_count": 1,
   "id": "7af5e6e3",
   "metadata": {},
   "outputs": [
    {
     "name": "stdout",
     "output_type": "stream",
     "text": [
      "Print first Numpy Array::-- [[ 8  9  7  6  5]\n",
      " [ 1  3  4  5  6]\n",
      " [12 11 13 14 15]]\n",
      "Print Shape Numpy Array::-- (3, 5)\n"
     ]
    }
   ],
   "source": [
    "# Create a numpy library from Tuple\n",
    "import numpy as np\n",
    "arr = np.array([[8,9,7,6,5],[1,3,4,5,6],[12,11,13,14,15]])\n",
    "print(\"Print first Numpy Array::--\", arr)\n",
    "print(\"Print Shape Numpy Array::--\", arr.shape)"
   ]
  },
  {
   "cell_type": "code",
   "execution_count": 18,
   "id": "ff4c6dd1",
   "metadata": {},
   "outputs": [
    {
     "name": "stdout",
     "output_type": "stream",
     "text": [
      "[[0. 0. 0. 0.]\n",
      " [0. 0. 0. 0.]\n",
      " [0. 0. 0. 0.]\n",
      " [0. 0. 0. 0.]]\n",
      "Print Shape Numpy Array of zeros::-- (4, 4)\n"
     ]
    }
   ],
   "source": [
    "# Create an arrays of all zeroes\n",
    "\n",
    "arr = np.zeros((4,4))\n",
    "print(arr)\n",
    "print(\"Print Shape Numpy Array of zeros::--\",arr.shape)"
   ]
  },
  {
   "cell_type": "code",
   "execution_count": 19,
   "id": "3cdbed39",
   "metadata": {},
   "outputs": [
    {
     "name": "stdout",
     "output_type": "stream",
     "text": [
      "[[1. 1. 1. 1.]\n",
      " [1. 1. 1. 1.]\n",
      " [1. 1. 1. 1.]]\n"
     ]
    }
   ],
   "source": [
    "# Create an arrays of all ones\n",
    "arr = np.ones((3,4))\n",
    "print(arr)"
   ]
  },
  {
   "cell_type": "code",
   "execution_count": 20,
   "id": "08536472",
   "metadata": {},
   "outputs": [
    {
     "name": "stdout",
     "output_type": "stream",
     "text": [
      "[[10 10 10]\n",
      " [10 10 10]\n",
      " [10 10 10]\n",
      " [10 10 10]]\n"
     ]
    }
   ],
   "source": [
    "# Create an arrays filling all elements with a specified values\n",
    "arr = np.full((4,3),10)\n",
    "print(arr)"
   ]
  },
  {
   "cell_type": "code",
   "execution_count": 23,
   "id": "c730bd2c",
   "metadata": {},
   "outputs": [
    {
     "name": "stdout",
     "output_type": "stream",
     "text": [
      "[[1. 0. 0. 0.]\n",
      " [0. 1. 0. 0.]\n",
      " [0. 0. 1. 0.]\n",
      " [0. 0. 0. 1.]]\n"
     ]
    }
   ],
   "source": [
    "# create a 4 x 4 identity matrix\n",
    "arr = np.eye(4)\n",
    "print(arr)"
   ]
  },
  {
   "cell_type": "code",
   "execution_count": 24,
   "id": "20a6194a",
   "metadata": {},
   "outputs": [
    {
     "name": "stdout",
     "output_type": "stream",
     "text": [
      "[[0.44675288 0.85038456 0.61210782]\n",
      " [0.81308052 0.17383382 0.62193411]\n",
      " [0.84419028 0.11111603 0.68923439]]\n"
     ]
    }
   ],
   "source": [
    "# create an array with random values\n",
    "arr = np.random.random((3,3))\n",
    "print(arr)"
   ]
  },
  {
   "cell_type": "code",
   "execution_count": 2,
   "id": "78a11881",
   "metadata": {},
   "outputs": [
    {
     "data": {
      "text/plain": [
       "array([ 0,  1,  2,  3,  4,  5,  6,  7,  8,  9, 10, 11, 12, 13, 14, 15, 16,\n",
       "       17, 18, 19, 20, 21, 22, 23, 24, 25, 26, 27, 28, 29])"
      ]
     },
     "execution_count": 2,
     "metadata": {},
     "output_type": "execute_result"
    }
   ],
   "source": [
    "# Create an array  with sequential values staring from 0 to a given range limit\n",
    "arr = np.arange(30)\n",
    "arr"
   ]
  },
  {
   "cell_type": "code",
   "execution_count": 30,
   "id": "cd614e7c",
   "metadata": {},
   "outputs": [
    {
     "data": {
      "text/plain": [
       "array([ 3,  5,  7,  9, 11, 13, 15, 17, 19, 21, 23, 25, 27, 29])"
      ]
     },
     "execution_count": 30,
     "metadata": {},
     "output_type": "execute_result"
    }
   ],
   "source": [
    "# Create an array  with sequential values staring from 0 to a final value and with a step value\n",
    "arr = np.arange(3, 30, 2)\n",
    "arr"
   ]
  },
  {
   "cell_type": "code",
   "execution_count": 31,
   "id": "4bac5519",
   "metadata": {},
   "outputs": [
    {
     "data": {
      "text/plain": [
       "array([[ 0,  1,  2,  3,  4,  5],\n",
       "       [ 6,  7,  8,  9, 10, 11],\n",
       "       [12, 13, 14, 15, 16, 17],\n",
       "       [18, 19, 20, 21, 22, 23],\n",
       "       [24, 25, 26, 27, 28, 29]])"
      ]
     },
     "execution_count": 31,
     "metadata": {},
     "output_type": "execute_result"
    }
   ],
   "source": [
    "# Reshape the Array to a new specified dimension\n",
    "arr = np.arange(30)\n",
    "arr = arr.reshape(5,6)\n",
    "arr"
   ]
  },
  {
   "cell_type": "code",
   "execution_count": 34,
   "id": "45bd042f",
   "metadata": {},
   "outputs": [
    {
     "data": {
      "text/plain": [
       "array([[ 0,  1,  2,  3,  4,  5],\n",
       "       [ 6,  7,  8,  9, 10, 11],\n",
       "       [12, 13, 14, 15, 16, 17],\n",
       "       [18, 19, 20, 21, 22, 23],\n",
       "       [24, 25, 26, 27, 28, 29]])"
      ]
     },
     "execution_count": 34,
     "metadata": {},
     "output_type": "execute_result"
    }
   ],
   "source": [
    "# Reshape the Array to a new specified dimension - shorter way\n",
    "arr = np.arange(30).reshape(5,6)\n",
    "arr"
   ]
  },
  {
   "cell_type": "code",
   "execution_count": 35,
   "id": "afad3b78",
   "metadata": {},
   "outputs": [
    {
     "data": {
      "text/plain": [
       "array([['John', 'Lean'],\n",
       "       ['Sham', 'Shaun']], dtype='<U5')"
      ]
     },
     "execution_count": 35,
     "metadata": {},
     "output_type": "execute_result"
    }
   ],
   "source": [
    "# Creating a String Array\n",
    "arr = np.array([['John','Lean'],['Sham', 'Shaun']])\n",
    "arr"
   ]
  },
  {
   "cell_type": "code",
   "execution_count": 7,
   "id": "147b3f56",
   "metadata": {},
   "outputs": [
    {
     "name": "stdout",
     "output_type": "stream",
     "text": [
      "[[ 0  1  2  3  4  5]\n",
      " [ 6  7  8  9 10 11]\n",
      " [12 13 14 15 16 17]\n",
      " [18 19 20 21 22 23]\n",
      " [24 25 26 27 28 29]]\n",
      "[[ 0  6 12 18 24]\n",
      " [ 1  7 13 19 25]\n",
      " [ 2  8 14 20 26]\n",
      " [ 3  9 15 21 27]\n",
      " [ 4 10 16 22 28]\n",
      " [ 5 11 17 23 29]]\n",
      "[[  55  145  235  325  415]\n",
      " [ 145  451  757 1063 1369]\n",
      " [ 235  757 1279 1801 2323]\n",
      " [ 325 1063 1801 2539 3277]\n",
      " [ 415 1369 2323 3277 4231]]\n"
     ]
    }
   ],
   "source": [
    "# Return the dot products of two arrays\n",
    "arr1 = np.arange(30).reshape(5,6)\n",
    "print(arr1)\n",
    "arr2 = arr1.T\n",
    "print(arr2)\n",
    "arr_res = arr1.dot(arr2)\n",
    "print(arr_res)"
   ]
  },
  {
   "cell_type": "code",
   "execution_count": 5,
   "id": "83c48035",
   "metadata": {},
   "outputs": [
    {
     "name": "stdout",
     "output_type": "stream",
     "text": [
      "Minimum:-  0\n",
      "Maximum:-  29\n",
      "Mean:-  14.5\n",
      "Standard Deviation:-  [1.70782513 1.70782513 1.70782513 1.70782513 1.70782513]\n",
      "Variance:-  [72. 72. 72. 72. 72. 72.]\n"
     ]
    }
   ],
   "source": [
    "# Find the Min, Max, Mean, Standard Deviation and Variance of the elements\n",
    "arr1 = np.arange(30).reshape(5,6)\n",
    "minm = arr1.min()\n",
    "maxm = arr1.max()\n",
    "mean = arr1.mean()\n",
    "std = arr1.std(axis = 1) # Along the column\n",
    "var = arr1.var(axis = 0) # Along the rows\n",
    "print(\"Minimum:- \",minm)\n",
    "print(\"Maximum:- \",maxm)\n",
    "print(\"Mean:- \",mean)\n",
    "print(\"Standard Deviation:- \",std)\n",
    "print(\"Variance:- \",var)"
   ]
  },
  {
   "cell_type": "code",
   "execution_count": 8,
   "id": "f6055da0",
   "metadata": {},
   "outputs": [
    {
     "name": "stdout",
     "output_type": "stream",
     "text": [
      "[[ 0  1  2  3  4  5]\n",
      " [ 6  7  8  9 10 11]\n",
      " [12 13 14 15 16 17]\n",
      " [18 19 20 21 22 23]\n",
      " [24 25 26 27 28 29]]\n"
     ]
    }
   ],
   "source": [
    "# create copy\n",
    "arr1 = np.arange(30).reshape(5,6)\n",
    "arrc = arr1.copy()\n",
    "print(arrc)"
   ]
  },
  {
   "cell_type": "code",
   "execution_count": 10,
   "id": "112fb5dc",
   "metadata": {},
   "outputs": [
    {
     "name": "stdout",
     "output_type": "stream",
     "text": [
      "ARRAY 1: \n",
      " [[0.83162605 0.30597282 0.88854935]\n",
      " [0.83408152 0.14292317 0.08264393]\n",
      " [0.55461476 0.65312932 0.7788924 ]]\n",
      "ARRAY 2: \n",
      " [[0.83 0.31 0.89]\n",
      " [0.83 0.14 0.08]\n",
      " [0.55 0.65 0.78]]\n"
     ]
    }
   ],
   "source": [
    "# Rounding Elements\n",
    "arr1 = np.random.random((3,3))\n",
    "print(\"ARRAY 1: \\n\",arr1)\n",
    "arr2 = arr1.round(2)\n",
    "print(\"ARRAY 2: \\n\",arr2)"
   ]
  },
  {
   "cell_type": "code",
   "execution_count": 12,
   "id": "68b685ed",
   "metadata": {},
   "outputs": [
    {
     "name": "stdout",
     "output_type": "stream",
     "text": [
      "ARRAY 1: \n",
      " [[ 0  1  2  3  4  5]\n",
      " [ 6  7  8  9 10 11]\n",
      " [12 13 14 15 16 17]\n",
      " [18 19 20 21 22 23]\n",
      " [24 25 26 27 28 29]]\n",
      "ARRAY 2: \n",
      " [['0' '1' '2' '3' '4' '5']\n",
      " ['6' '7' '8' '9' '10' '11']\n",
      " ['12' '13' '14' '15' '16' '17']\n",
      " ['18' '19' '20' '21' '22' '23']\n",
      " ['24' '25' '26' '27' '28' '29']]\n",
      "ARRAY 3: \n",
      " [[ 0  1  2  3  4  5]\n",
      " [ 6  7  8  9 10 11]\n",
      " [12 13 14 15 16 17]\n",
      " [18 19 20 21 22 23]\n",
      " [24 25 26 27 28 29]]\n"
     ]
    }
   ],
   "source": [
    "# Converting data Types with astypes\n",
    "arr1 = np.arange(30).reshape(5,6)\n",
    "print(\"ARRAY 1: \\n\",arr1)\n",
    "arr2 = arr1.astype(str)\n",
    "print(\"ARRAY 2: \\n\",arr2)\n",
    "arr3 = arr1.astype(int)\n",
    "print(\"ARRAY 3: \\n\",arr3)"
   ]
  },
  {
   "cell_type": "markdown",
   "id": "6e4df653",
   "metadata": {},
   "source": [
    "## Accessing Array Elements"
   ]
  },
  {
   "cell_type": "code",
   "execution_count": 33,
   "id": "823c3eca",
   "metadata": {},
   "outputs": [
    {
     "name": "stdout",
     "output_type": "stream",
     "text": [
      "ARRAY 1: \n",
      " [[ 0  1  2  3  4  5]\n",
      " [ 6  7  8  9 10 11]\n",
      " [12 13 14 15 16 17]\n",
      " [18 19 20 21 22 23]\n",
      " [24 25 26 27 28 29]]\n",
      "Print Element at the 2nd Row 3rd column: \n",
      " 14\n"
     ]
    }
   ],
   "source": [
    "# Accessing array elements 2nd row, 3rd column\n",
    "arr1 = np.arange(30).reshape(5,6)\n",
    "print(\"ARRAY 1: \\n\",arr1)\n",
    "print(\"Print Element at the 2nd Row 3rd column: \\n\",arr1[2,2])"
   ]
  },
  {
   "cell_type": "code",
   "execution_count": 19,
   "id": "0f273342",
   "metadata": {},
   "outputs": [
    {
     "name": "stdout",
     "output_type": "stream",
     "text": [
      "ARRAY 1: \n",
      " [[ 0  1  2  3  4  5]\n",
      " [ 6  7  8  9 10 11]\n",
      " [12 13 14 15 16 17]\n",
      " [18 19 20 21 22 23]\n",
      " [24 25 26 27 28 29]]\n",
      "Print Element at the 2nd Row 3rd column: \n",
      " 14\n",
      "All Elements at the 2nd Row: \n",
      " [ 6  7  8  9 10 11]\n",
      "Elements at the 3rd column: \n",
      " [ 2  8 14 20 26]\n",
      "All Elements: \n",
      " [[ 0  1  2  3  4  5]\n",
      " [ 6  7  8  9 10 11]\n",
      " [12 13 14 15 16 17]\n",
      " [18 19 20 21 22 23]\n",
      " [24 25 26 27 28 29]]\n"
     ]
    }
   ],
   "source": [
    "# Accessing array elements \n",
    "arr1 = np.arange(30).reshape(5,6)\n",
    "print(\"ARRAY 1: \\n\",arr1)\n",
    "print(\"Print Element at the 2nd Row 3rd column: \\n\",arr1[2,2])\n",
    "print(\"All Elements at the 2nd Row: \\n\",arr1[1])\n",
    "print(\"Elements at the 3rd column: \\n\",arr1[:,2])\n",
    "print(\"All Elements: \\n\",arr1[:,:])"
   ]
  },
  {
   "cell_type": "code",
   "execution_count": 2,
   "id": "2fdb58a6",
   "metadata": {},
   "outputs": [
    {
     "name": "stdout",
     "output_type": "stream",
     "text": [
      "ARRAY 1: \n",
      " [[ 0  1  2  3  4  5]\n",
      " [ 6  7  8  9 10 11]\n",
      " [12 13 14 15 16 17]\n",
      " [18 19 20 21 22 23]\n",
      " [24 25 26 27 28 29]]\n",
      "Print Element at the 2nd Row 3rd to 5th position: \n",
      " [ 8  9 10]\n",
      "Elements at the 3rd column 3rd to 5th row position: \n",
      " [14 20 26]\n",
      "Print Element at the 2nd Row 3rd to 5th position, Elements at the 3rd column 3rd to 5th row position::--\n",
      " [[14 15 16]\n",
      " [20 21 22]\n",
      " [26 27 28]]\n"
     ]
    }
   ],
   "source": [
    "# Accessing array elements by its position\n",
    "arr1 = np.arange(30).reshape(5,6)\n",
    "print(\"ARRAY 1: \\n\",arr1)\n",
    "print(\"Print Element at the 2nd Row 3rd to 5th position: \\n\", arr1[1, 2:5])\n",
    "print(\"Elements at the 3rd column 3rd to 5th row position: \\n\",arr1[2:5, 2])\n",
    "print(\"Print Element at the 2nd Row 3rd to 5th position, Elements at the 3rd column 3rd to 5th row position::--\\n\",arr1[2:5, 2:5])"
   ]
  },
  {
   "cell_type": "markdown",
   "id": "3d628806",
   "metadata": {},
   "source": [
    "#### Iterating thru an arrays"
   ]
  },
  {
   "cell_type": "code",
   "execution_count": 4,
   "id": "4aa6485c",
   "metadata": {},
   "outputs": [
    {
     "name": "stdout",
     "output_type": "stream",
     "text": [
      "Printing thru rows::--\n",
      "[0 1 2 3 4 5]\n",
      "[ 6  7  8  9 10 11]\n",
      "[12 13 14 15 16 17]\n",
      "[18 19 20 21 22 23]\n",
      "[24 25 26 27 28 29]\n",
      "Printing thru columns::--\n",
      "[ 0  6 12 18 24]\n",
      "[ 1  7 13 19 25]\n",
      "[ 2  8 14 20 26]\n",
      "[ 3  9 15 21 27]\n",
      "[ 4 10 16 22 28]\n",
      "[ 5 11 17 23 29]\n"
     ]
    }
   ],
   "source": [
    "# Iterating thru Rows\n",
    "arr1 = np.arange(30).reshape(5,6)\n",
    "print(\"Printing thru rows::--\")\n",
    "for row in arr1:\n",
    "    print(row)\n",
    "# Iterating thru rows\n",
    "print(\"Printing thru columns::--\")\n",
    "cols = arr1.shape[1]\n",
    "for n in range(cols):\n",
    "    print(arr1[:,n])"
   ]
  },
  {
   "cell_type": "markdown",
   "id": "ffca85c1",
   "metadata": {},
   "source": [
    "#### Stacking  arrays"
   ]
  },
  {
   "cell_type": "code",
   "execution_count": 8,
   "id": "2fd8e23c",
   "metadata": {},
   "outputs": [
    {
     "name": "stdout",
     "output_type": "stream",
     "text": [
      "ARRAY 1: \n",
      " [[ 0  1  2  3  4  5]\n",
      " [ 6  7  8  9 10 11]\n",
      " [12 13 14 15 16 17]\n",
      " [18 19 20 21 22 23]\n",
      " [24 25 26 27 28 29]]\n",
      "ARRAY 2: \n",
      " [[100 101 102 103 104 105]\n",
      " [106 107 108 109 110 111]\n",
      " [112 113 114 115 116 117]\n",
      " [118 119 120 121 122 123]\n",
      " [124 125 126 127 128 129]]\n",
      "Stacked Array Horizontal:::--\n",
      " [[  0   1   2   3   4   5 100 101 102 103 104 105]\n",
      " [  6   7   8   9  10  11 106 107 108 109 110 111]\n",
      " [ 12  13  14  15  16  17 112 113 114 115 116 117]\n",
      " [ 18  19  20  21  22  23 118 119 120 121 122 123]\n",
      " [ 24  25  26  27  28  29 124 125 126 127 128 129]]\n",
      "Stacked Array Vertical:::--\n",
      " [[  0   1   2   3   4   5]\n",
      " [  6   7   8   9  10  11]\n",
      " [ 12  13  14  15  16  17]\n",
      " [ 18  19  20  21  22  23]\n",
      " [ 24  25  26  27  28  29]\n",
      " [100 101 102 103 104 105]\n",
      " [106 107 108 109 110 111]\n",
      " [112 113 114 115 116 117]\n",
      " [118 119 120 121 122 123]\n",
      " [124 125 126 127 128 129]]\n"
     ]
    }
   ],
   "source": [
    "#Horizontal Stacking of Two Arrays\n",
    "arr1 = np.arange(30).reshape(5,6)\n",
    "print(\"ARRAY 1: \\n\",arr1)\n",
    "arr2 = np.arange(100, 130).reshape(5,6)\n",
    "print(\"ARRAY 2: \\n\",arr2)\n",
    "print(\"Stacked Array Horizontal:::--\\n\",np.hstack((arr1,arr2)))\n",
    "print(\"Stacked Array Vertical:::--\\n\",np.vstack((arr1,arr2)))"
   ]
  },
  {
   "cell_type": "markdown",
   "id": "18f5a908",
   "metadata": {},
   "source": [
    "#### Spliting  arrays"
   ]
  },
  {
   "cell_type": "code",
   "execution_count": 16,
   "id": "29d31c07",
   "metadata": {},
   "outputs": [
    {
     "name": "stdout",
     "output_type": "stream",
     "text": [
      "ARRAY 1:\n",
      " [[ 0  1  2  3  4  5]\n",
      " [ 6  7  8  9 10 11]\n",
      " [12 13 14 15 16 17]\n",
      " [18 19 20 21 22 23]\n",
      " [24 25 26 27 28 29]\n",
      " [30 31 32 33 34 35]] \n",
      "\n",
      "[[ 0  1  2  3  4  5]\n",
      " [ 6  7  8  9 10 11]\n",
      " [12 13 14 15 16 17]] \n",
      "\n",
      "[[18 19 20 21 22 23]\n",
      " [24 25 26 27 28 29]\n",
      " [30 31 32 33 34 35]]\n"
     ]
    }
   ],
   "source": [
    "# Vertical Spliting of two Arrays\n",
    "arr1 = np.arange(36).reshape(6,6)\n",
    "print(\"ARRAY 1:\\n\",arr1, '\\n')\n",
    "splt = np.vsplit(arr1, 2)\n",
    "print(splt[0], '\\n')\n",
    "print(splt[1])"
   ]
  },
  {
   "cell_type": "code",
   "execution_count": 17,
   "id": "2820580a",
   "metadata": {},
   "outputs": [
    {
     "name": "stdout",
     "output_type": "stream",
     "text": [
      "ARRAY 1:\n",
      " [[ 0  1  2  3  4  5]\n",
      " [ 6  7  8  9 10 11]\n",
      " [12 13 14 15 16 17]\n",
      " [18 19 20 21 22 23]\n",
      " [24 25 26 27 28 29]\n",
      " [30 31 32 33 34 35]] \n",
      "\n",
      "[[ 0  1  2]\n",
      " [ 6  7  8]\n",
      " [12 13 14]\n",
      " [18 19 20]\n",
      " [24 25 26]\n",
      " [30 31 32]] \n",
      "\n",
      "[[ 3  4  5]\n",
      " [ 9 10 11]\n",
      " [15 16 17]\n",
      " [21 22 23]\n",
      " [27 28 29]\n",
      " [33 34 35]]\n"
     ]
    }
   ],
   "source": [
    "# Horizontal Spliting of two Arrays\n",
    "arr1 = np.arange(36).reshape(6,6)\n",
    "print(\"ARRAY 1:\\n\",arr1, '\\n')\n",
    "splt = np.hsplit(arr1, 2)\n",
    "print(splt[0], '\\n')\n",
    "print(splt[1])"
   ]
  },
  {
   "cell_type": "markdown",
   "id": "fe5376fd",
   "metadata": {},
   "source": [
    "## Array Assignment vs copy"
   ]
  },
  {
   "cell_type": "code",
   "execution_count": 18,
   "id": "be343acc",
   "metadata": {},
   "outputs": [
    {
     "name": "stdout",
     "output_type": "stream",
     "text": [
      "ARRAY 1:\n",
      " [[ 0  1  2  3  4  5]\n",
      " [ 6 99  8  9 10 11]\n",
      " [12 13 14 15 16 17]\n",
      " [18 19 20 21 22 23]\n",
      " [24 25 26 27 28 29]\n",
      " [30 31 32 33 34 35]]\n",
      "ARRAY 2:\n",
      " [[ 0  1  2  3  4  5]\n",
      " [ 6 99  8  9 10 11]\n",
      " [12 13 14 15 16 17]\n",
      " [18 19 20 21 22 23]\n",
      " [24 25 26 27 28 29]\n",
      " [30 31 32 33 34 35]]\n"
     ]
    }
   ],
   "source": [
    "# Demonstrate Array Assignment\n",
    "arr1 = np.arange(36).reshape(6,6)\n",
    "arr2 = arr1\n",
    "arr1[1,1] = 99\n",
    "print(\"ARRAY 1:\\n\",arr1)\n",
    "print(\"ARRAY 2:\\n\",arr2)"
   ]
  },
  {
   "cell_type": "code",
   "execution_count": 19,
   "id": "0d497694",
   "metadata": {},
   "outputs": [
    {
     "name": "stdout",
     "output_type": "stream",
     "text": [
      "ARRAY 1:\n",
      " [[ 0  1  2  3  4  5]\n",
      " [ 6 99  8  9 10 11]\n",
      " [12 13 14 15 16 17]\n",
      " [18 19 20 21 22 23]\n",
      " [24 25 26 27 28 29]\n",
      " [30 31 32 33 34 35]]\n",
      "ARRAY 2:\n",
      " [[ 0  1  2  3  4  5]\n",
      " [ 6  7  8  9 10 11]\n",
      " [12 13 14 15 16 17]\n",
      " [18 19 20 21 22 23]\n",
      " [24 25 26 27 28 29]\n",
      " [30 31 32 33 34 35]]\n"
     ]
    }
   ],
   "source": [
    "# Demonstrate Array Copy\n",
    "arr1 = np.arange(36).reshape(6,6)\n",
    "arr2 = arr1.copy()\n",
    "arr1[1,1] = 99\n",
    "print(\"ARRAY 1:\\n\",arr1)\n",
    "print(\"ARRAY 2:\\n\",arr2)"
   ]
  },
  {
   "cell_type": "code",
   "execution_count": null,
   "id": "8f76dbba",
   "metadata": {},
   "outputs": [],
   "source": []
  }
 ],
 "metadata": {
  "kernelspec": {
   "display_name": "Python 3 (ipykernel)",
   "language": "python",
   "name": "python3"
  },
  "language_info": {
   "codemirror_mode": {
    "name": "ipython",
    "version": 3
   },
   "file_extension": ".py",
   "mimetype": "text/x-python",
   "name": "python",
   "nbconvert_exporter": "python",
   "pygments_lexer": "ipython3",
   "version": "3.11.3"
  }
 },
 "nbformat": 4,
 "nbformat_minor": 5
}
