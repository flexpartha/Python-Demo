{
 "cells": [
  {
   "cell_type": "markdown",
   "id": "aefbb8ea",
   "metadata": {},
   "source": [
    "### Creating User defined function in Python"
   ]
  },
  {
   "cell_type": "code",
   "execution_count": 2,
   "id": "ca998f18",
   "metadata": {},
   "outputs": [],
   "source": [
    "def testfunc(x,y):\n",
    "\n",
    "    print(f\"First Argument is {x}\")\n",
    "    print(f\"Second Argument is {y}\")\n",
    "    return x*y"
   ]
  },
  {
   "cell_type": "code",
   "execution_count": 3,
   "id": "24a30e1e",
   "metadata": {},
   "outputs": [
    {
     "name": "stdout",
     "output_type": "stream",
     "text": [
      "First Argument is 3\n",
      "Second Argument is 5\n",
      "15\n"
     ]
    }
   ],
   "source": [
    "print(testfunc(3,5))"
   ]
  },
  {
   "cell_type": "code",
   "execution_count": 4,
   "id": "b9b98e74",
   "metadata": {},
   "outputs": [
    {
     "name": "stdout",
     "output_type": "stream",
     "text": [
      "First Argument is 6\n",
      "Second Argument is 7\n",
      "42\n"
     ]
    }
   ],
   "source": [
    "ret = testfunc(6,7)\n",
    "print(ret)"
   ]
  },
  {
   "cell_type": "markdown",
   "id": "a5245d29",
   "metadata": {},
   "source": [
    "### Multiple returns from python function"
   ]
  },
  {
   "cell_type": "code",
   "execution_count": 5,
   "id": "e1a09532",
   "metadata": {},
   "outputs": [],
   "source": [
    "def testfunc(x,y):\n",
    "\n",
    "    print(f\"First Argument is {x}\")\n",
    "    print(f\"Second Argument is {y}\")\n",
    "    return x*y, x+y, x/y"
   ]
  },
  {
   "cell_type": "code",
   "execution_count": 7,
   "id": "367989ef",
   "metadata": {},
   "outputs": [
    {
     "name": "stdout",
     "output_type": "stream",
     "text": [
      "First Argument is 8\n",
      "Second Argument is 12\n",
      "(96, 20, 0.6666666666666666)\n"
     ]
    }
   ],
   "source": [
    "print(testfunc(8,12))"
   ]
  },
  {
   "cell_type": "code",
   "execution_count": 8,
   "id": "d3d6d1ae",
   "metadata": {},
   "outputs": [
    {
     "name": "stdout",
     "output_type": "stream",
     "text": [
      "First Argument is 8\n",
      "Second Argument is 9\n",
      "72\n",
      "17\n",
      "0.89\n"
     ]
    }
   ],
   "source": [
    "ret1, ret2, ret3 = testfunc(8,9)\n",
    "print(ret1)\n",
    "print(ret2)\n",
    "print(round(ret3,2))\n"
   ]
  },
  {
   "cell_type": "markdown",
   "id": "51e9a048",
   "metadata": {},
   "source": [
    "## Variable scopes W.R.T functions"
   ]
  },
  {
   "cell_type": "code",
   "execution_count": 9,
   "id": "7c2d1aba",
   "metadata": {},
   "outputs": [],
   "source": [
    "def testfunc(x,y):\n",
    "    testvar_l = 7 # Available only withing the function\n",
    "    print(\"TestVar_g:\",testvar_g)\n",
    "    print(f\"First Argument is {x}\")\n",
    "    print(f\"Second Argument is {y}\")\n",
    "    return x*y+testvar_g"
   ]
  },
  {
   "cell_type": "code",
   "execution_count": 11,
   "id": "073b7a1f",
   "metadata": {},
   "outputs": [
    {
     "name": "stdout",
     "output_type": "stream",
     "text": [
      "TestVar_g: 5\n",
      "First Argument is 9\n",
      "Second Argument is 6\n",
      "59\n"
     ]
    }
   ],
   "source": [
    "testvar_g = 5\n",
    "print(testfunc(9,6))"
   ]
  },
  {
   "cell_type": "code",
   "execution_count": 12,
   "id": "d1f66063",
   "metadata": {},
   "outputs": [
    {
     "ename": "NameError",
     "evalue": "name 'testvar_l' is not defined",
     "output_type": "error",
     "traceback": [
      "\u001b[1;31m---------------------------------------------------------------------------\u001b[0m",
      "\u001b[1;31mNameError\u001b[0m                                 Traceback (most recent call last)",
      "Cell \u001b[1;32mIn[12], line 1\u001b[0m\n\u001b[1;32m----> 1\u001b[0m \u001b[38;5;28mprint\u001b[39m(testvar_l)\n",
      "\u001b[1;31mNameError\u001b[0m: name 'testvar_l' is not defined"
     ]
    }
   ],
   "source": [
    "print(testvar_l)"
   ]
  },
  {
   "cell_type": "code",
   "execution_count": null,
   "id": "1f9981c6",
   "metadata": {},
   "outputs": [],
   "source": []
  }
 ],
 "metadata": {
  "kernelspec": {
   "display_name": "Python 3 (ipykernel)",
   "language": "python",
   "name": "python3"
  },
  "language_info": {
   "codemirror_mode": {
    "name": "ipython",
    "version": 3
   },
   "file_extension": ".py",
   "mimetype": "text/x-python",
   "name": "python",
   "nbconvert_exporter": "python",
   "pygments_lexer": "ipython3",
   "version": "3.11.3"
  }
 },
 "nbformat": 4,
 "nbformat_minor": 5
}
