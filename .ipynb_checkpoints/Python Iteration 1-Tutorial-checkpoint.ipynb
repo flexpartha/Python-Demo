{
 "cells": [
  {
   "cell_type": "markdown",
   "id": "ec44cef8",
   "metadata": {},
   "source": [
    "#### Python Iteration"
   ]
  },
  {
   "cell_type": "code",
   "execution_count": 1,
   "id": "93a115b7",
   "metadata": {},
   "outputs": [
    {
     "name": "stdout",
     "output_type": "stream",
     "text": [
      "iteration 1\n",
      "iteration 2\n",
      "iteration 3\n",
      "iteration 4\n",
      "iteration 5\n",
      "Final value of m =  15\n"
     ]
    }
   ],
   "source": [
    "# Example of Definite Iteration\n",
    "l = 5\n",
    "m = 0\n",
    "i = 0\n",
    "while l > 0 :\n",
    "    m += l\n",
    "    l -= 1\n",
    "    i += 1\n",
    "    print(\"iteration\", i)\n",
    "print(\"Final value of m = \", m)"
   ]
  },
  {
   "cell_type": "code",
   "execution_count": 2,
   "id": "e4e75a9f",
   "metadata": {},
   "outputs": [
    {
     "name": "stdout",
     "output_type": "stream",
     "text": [
      "Monday\n",
      "Tuesday\n",
      "Thrusday\n"
     ]
    }
   ],
   "source": [
    "# Example of for loop of a List\n",
    "\n",
    "weekdayList = [\"Monday\", \"Tuesday\", \"Thrusday\"]\n",
    "for x in weekdayList:\n",
    "    print(x)"
   ]
  },
  {
   "cell_type": "code",
   "execution_count": 4,
   "id": "c17d72ae",
   "metadata": {},
   "outputs": [
    {
     "name": "stdout",
     "output_type": "stream",
     "text": [
      "India\n",
      "Australia\n",
      "Sri Lanka\n"
     ]
    }
   ],
   "source": [
    "# Example of for loop of a List of Tuple\n",
    "\n",
    "countryList =(\"India\", \"Australia\",\"Sri Lanka\")\n",
    "for x in countryList:\n",
    "    print(x)"
   ]
  },
  {
   "cell_type": "code",
   "execution_count": 5,
   "id": "664aa7a3",
   "metadata": {},
   "outputs": [
    {
     "name": "stdout",
     "output_type": "stream",
     "text": [
      "India\n",
      "Sri Lanka\n",
      "Australia\n"
     ]
    }
   ],
   "source": [
    "# Example of for loop of a List of Set\n",
    "\n",
    "countryList ={\"India\", \"Australia\",\"Sri Lanka\"}\n",
    "for x in countryList:\n",
    "    print(x)"
   ]
  },
  {
   "cell_type": "code",
   "execution_count": 2,
   "id": "81606da2",
   "metadata": {},
   "outputs": [
    {
     "name": "stdout",
     "output_type": "stream",
     "text": [
      "Name Partha Chakraborty\n",
      "age 42\n",
      "salary 23000\n"
     ]
    }
   ],
   "source": [
    "# Example of for loop for a Dictionary\n",
    "PersonDic = {\"Name\":\"Partha Chakraborty\",\"age\": 42, \"salary\":23000}\n",
    "for x in PersonDic:\n",
    "    print(x, PersonDic[x])"
   ]
  },
  {
   "cell_type": "code",
   "execution_count": 3,
   "id": "06496ec6",
   "metadata": {},
   "outputs": [
    {
     "name": "stdout",
     "output_type": "stream",
     "text": [
      "P\n",
      "A\n",
      "R\n",
      "T\n",
      "H\n",
      "A\n"
     ]
    }
   ],
   "source": [
    "# Example of for loop for a String\n",
    "\n",
    "str = \"PARTHA\"\n",
    "for x in str:\n",
    "    print(x)"
   ]
  },
  {
   "cell_type": "code",
   "execution_count": 4,
   "id": "ac508ad3",
   "metadata": {},
   "outputs": [
    {
     "name": "stdout",
     "output_type": "stream",
     "text": [
      "0  is being processed\n",
      "1  is being processed\n",
      "2  is being processed\n",
      "3  is being processed\n",
      "4  is being processed\n"
     ]
    }
   ],
   "source": [
    "# Example of for loop for Numeric Range\n",
    "\n",
    "for x in range(5):\n",
    "    print(x, \" is being processed\")"
   ]
  },
  {
   "cell_type": "code",
   "execution_count": null,
   "id": "5b0c8601",
   "metadata": {},
   "outputs": [],
   "source": []
  }
 ],
 "metadata": {
  "kernelspec": {
   "display_name": "Python 3 (ipykernel)",
   "language": "python",
   "name": "python3"
  },
  "language_info": {
   "codemirror_mode": {
    "name": "ipython",
    "version": 3
   },
   "file_extension": ".py",
   "mimetype": "text/x-python",
   "name": "python",
   "nbconvert_exporter": "python",
   "pygments_lexer": "ipython3",
   "version": "3.11.3"
  }
 },
 "nbformat": 4,
 "nbformat_minor": 5
}
