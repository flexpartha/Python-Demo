{
 "cells": [
  {
   "cell_type": "markdown",
   "id": "c54b78c4",
   "metadata": {},
   "source": [
    "## Sets"
   ]
  },
  {
   "cell_type": "markdown",
   "id": "fe040f21",
   "metadata": {},
   "source": [
    "sets are unordered collection objects containing mutable elements.Set object are used in Python, the purpose odf carrying out special Set operation such as finding unions, intersections, symetric intersections etc between the datsets.Sets are also used for membership testing i.e testing wheather an element is part of sets or not. Set are unordered cannot access thru index or other operation like slicing, "
   ]
  },
  {
   "cell_type": "code",
   "execution_count": 1,
   "id": "1a67a959",
   "metadata": {},
   "outputs": [
    {
     "name": "stdout",
     "output_type": "stream",
     "text": [
      "{'Traimbekeshar temple', 'Ramesharam Temple', 'Varanashi Temple', 'Somnath Temple', 'Kedarnath Temple'}\n"
     ]
    }
   ],
   "source": [
    "# Creating a Set\n",
    "set1 = set(['Kedarnath Temple', 'Somnath Temple', 'Varanashi Temple', 'Traimbekeshar temple', 'Ramesharam Temple'])\n",
    "print(set1)"
   ]
  },
  {
   "cell_type": "markdown",
   "id": "af199033",
   "metadata": {},
   "source": [
    "## FINDING THE Intersections between two sets"
   ]
  },
  {
   "cell_type": "code",
   "execution_count": 9,
   "id": "b5c79f29",
   "metadata": {},
   "outputs": [
    {
     "name": "stdout",
     "output_type": "stream",
     "text": [
      "Set1- {'h', 'g', 'c', 'f', 'a', 'b', 'e', 'd'}\n",
      "Set2- {'h', 'q', 'c', 'm', 'f', 'a', 'b', 'e', 't', 'd'}\n",
      "{'h', 'c', 'f', 'a', 'b', 'e', 'd'}\n",
      "{'h', 'c', 'f', 'a', 'b', 'e', 'd'}\n"
     ]
    }
   ],
   "source": [
    "# Finding an Intersection\n",
    "set1  = set(['a','b','c','d','e','f','g','h'])\n",
    "set2  = set(['a','b','c','d','e','f','h','m','t','q'])\n",
    "print(\"Set1-\",set1)\n",
    "print(\"Set2-\",set2)\n",
    "int1 = set1 & set2\n",
    "print(int1)\n",
    "int2 = set1.intersection(set2)\n",
    "print(int2)"
   ]
  },
  {
   "cell_type": "code",
   "execution_count": 10,
   "id": "9a1a521c",
   "metadata": {},
   "outputs": [
    {
     "name": "stdout",
     "output_type": "stream",
     "text": [
      "{'h', 'g', 'c', 'q', 'm', 'f', 'a', 'b', 'e', 't', 'd'}\n",
      "{'h', 'g', 'c', 'q', 'm', 'f', 'a', 'b', 'e', 't', 'd'}\n",
      "Same\n"
     ]
    }
   ],
   "source": [
    "# Finding the Union of two sets\n",
    "set1  = set(['a','b','c','d','e','f','g','h'])\n",
    "set2  = set(['a','b','c','d','e','f','h','m','t','q'])\n",
    "union1 = set1 | set2\n",
    "union2 =set1.union(set2)\n",
    "print(union1)\n",
    "print(union2)\n",
    "if union1 == union2:\n",
    "    print(\"Same\")"
   ]
  },
  {
   "cell_type": "code",
   "execution_count": 13,
   "id": "427808d2",
   "metadata": {},
   "outputs": [
    {
     "name": "stdout",
     "output_type": "stream",
     "text": [
      "{'g', 'd'}\n",
      "{'g', 'd'}\n"
     ]
    }
   ],
   "source": [
    "# Finding the difference in Union of two sets\n",
    "set1  = set(['a','b','c','d','e','f','g','h'])\n",
    "set2  = set(['a','b','c','e','f','h','m','t','q'])\n",
    "dif1 = set1 - set2\n",
    "dif2 = set1.difference(set2)\n",
    "print(dif1)\n",
    "print(dif2)"
   ]
  },
  {
   "cell_type": "code",
   "execution_count": 14,
   "id": "763b86e2",
   "metadata": {},
   "outputs": [
    {
     "name": "stdout",
     "output_type": "stream",
     "text": [
      "{'q', 'm', 'g', 't', 'd'}\n"
     ]
    }
   ],
   "source": [
    "# Finding Symetric  difference  two sets\n",
    "set1  = set(['a','b','c','d','e','f','g','h'])\n",
    "set2  = set(['a','b','c','e','f','h','m','t','q'])\n",
    "dif1 = set1 ^ set2\n",
    "print(dif1)"
   ]
  },
  {
   "cell_type": "code",
   "execution_count": 15,
   "id": "8e6bd1df",
   "metadata": {},
   "outputs": [
    {
     "name": "stdout",
     "output_type": "stream",
     "text": [
      "Set1-- {'h', 'g', 'c', 'f', 'a', 'b', 'e', 'd'}\n",
      " after add::-- {'h', 'g', 'c', 'f', 'a', 'b', 'e', 'd', 'i'}\n"
     ]
    }
   ],
   "source": [
    "# Add an element in a Set\n",
    "set1 = set(['a','b','c','d','e','f','g','h'])\n",
    "print(\"Set1--\",set1)\n",
    "set1.add('i')\n",
    "print(\" after add::--\",set1)"
   ]
  },
  {
   "cell_type": "markdown",
   "id": "e0e287e0",
   "metadata": {},
   "source": [
    "### Test of Membership"
   ]
  },
  {
   "cell_type": "code",
   "execution_count": 16,
   "id": "98a08375",
   "metadata": {},
   "outputs": [
    {
     "name": "stdout",
     "output_type": "stream",
     "text": [
      "True\n"
     ]
    }
   ],
   "source": [
    "# check element c is a part of set1\n",
    "set1 = set(['a','b','c','d','e','f','g','h'])\n",
    "print('c' in set1)"
   ]
  },
  {
   "cell_type": "code",
   "execution_count": 1,
   "id": "8fb9ed0d",
   "metadata": {},
   "outputs": [
    {
     "name": "stdout",
     "output_type": "stream",
     "text": [
      "Set2 is subset of set1:- True\n",
      "Set1 is superset of set2:- True\n"
     ]
    }
   ],
   "source": [
    "# check for subset or superset\n",
    "set1 = set(['a','b','c','d','e','f','g','h'])\n",
    "set2 = set(['b','e','f','h'])\n",
    "print(\"Set2 is subset of set1:-\",set2.issubset(set1))\n",
    "print(\"Set1 is superset of set2:-\",set1.issuperset(set1))"
   ]
  },
  {
   "cell_type": "code",
   "execution_count": 2,
   "id": "5bea207a",
   "metadata": {},
   "outputs": [
    {
     "name": "stdout",
     "output_type": "stream",
     "text": [
      "{'n', 'y', 'f', 'b', 'e', 'h', 'd'}\n"
     ]
    }
   ],
   "source": [
    "# Adding multiple elements in a set by update method\n",
    "set1 = set(['b','e','f','h'])\n",
    "set1.update('n','y','d')\n",
    "print(set1)"
   ]
  },
  {
   "cell_type": "code",
   "execution_count": 3,
   "id": "705e6c47",
   "metadata": {},
   "outputs": [
    {
     "name": "stdout",
     "output_type": "stream",
     "text": [
      "8\n"
     ]
    }
   ],
   "source": [
    "# Finding the number of element or length of a set\n",
    "set1 = set(['a','b','c','d','e','f','g','h'])\n",
    "print(len(set1))"
   ]
  },
  {
   "cell_type": "code",
   "execution_count": 4,
   "id": "9a25c67e",
   "metadata": {},
   "outputs": [
    {
     "name": "stdout",
     "output_type": "stream",
     "text": [
      "Printing original set::-- {'f', 'b', 'e', 'a', 'c', 'g', 'h', 'd'}\n",
      "Printing copied set::-- {'f', 'b', 'e', 'a', 'c', 'g', 'h', 'd'}\n",
      "Memory  address of  set1::-- 2349804097984\n",
      "Memory  address of  set2::-- 2349804096416\n"
     ]
    }
   ],
   "source": [
    "#Copy - The Copy function creates a Shallow copy of the set\n",
    "set1 = set(['a','b','c','d','e','f','g','h'])\n",
    "set2 = set1.copy()\n",
    "print(\"Printing original set::--\",set1)\n",
    "print(\"Printing copied set::--\",set2)\n",
    "print(\"Memory  address of  set1::--\",id(set1))\n",
    "print(\"Memory  address of  set2::--\",id(set2))"
   ]
  },
  {
   "cell_type": "code",
   "execution_count": 5,
   "id": "e28858d0",
   "metadata": {},
   "outputs": [
    {
     "name": "stdout",
     "output_type": "stream",
     "text": [
      "Remove element::-- {'f', 'b', 'e', 'a', 'c', 'g', 'h'}\n"
     ]
    }
   ],
   "source": [
    "#Remove - Remove method removes an element from the set\n",
    "set1 = set(['a','b','c','d','e','f','g','h'])\n",
    "set1.remove('d')\n",
    "print(\"Remove element::--\",set1)"
   ]
  },
  {
   "cell_type": "code",
   "execution_count": 8,
   "id": "4abbf2d2",
   "metadata": {},
   "outputs": [
    {
     "name": "stdout",
     "output_type": "stream",
     "text": [
      "popped element::-- f\n",
      "New set::-- {'b', 'e', 'a', 'c', 'g', 'h', 'd'}\n"
     ]
    }
   ],
   "source": [
    "# Pop - Removes an arbitery element from the set and return it\n",
    "set1 = set(['a','b','c','d','e','f','g','h'])\n",
    "x = set1.pop()\n",
    "print(\"popped element::--\",x)\n",
    "print(\"New set::--\",set1)"
   ]
  },
  {
   "cell_type": "code",
   "execution_count": 9,
   "id": "329f21cd",
   "metadata": {},
   "outputs": [
    {
     "name": "stdout",
     "output_type": "stream",
     "text": [
      "{'b', 'f', 'e', 'h'}\n"
     ]
    }
   ],
   "source": [
    "# Intersection Update\n",
    "set1 = set(['a','b','c','d','e','f','g','h'])\n",
    "set2 = set(['b','e','f','h'])\n",
    "set1.intersection_update(set2)\n",
    "print(set1)"
   ]
  },
  {
   "cell_type": "code",
   "execution_count": 10,
   "id": "982ad773",
   "metadata": {},
   "outputs": [
    {
     "name": "stdout",
     "output_type": "stream",
     "text": [
      "Difference ::- {'a', 'c', 'g', 'd'}\n"
     ]
    }
   ],
   "source": [
    "# Difference_update\n",
    "set1 = set(['a','b','c','d','e','f','g','h'])\n",
    "set2 = set(['b','e','f','h'])\n",
    "set1.difference_update(set2)\n",
    "print(\"Difference ::-\",set1)"
   ]
  },
  {
   "cell_type": "code",
   "execution_count": null,
   "id": "80fd4f00",
   "metadata": {},
   "outputs": [],
   "source": [
    "# symmetric Difference update\n",
    "set1 = set(['a','b','c','d','e','f','g','h'])\n",
    "set2 = set(['b','e','f','h','j'])\n",
    "set1.symmetric_difference_update(set2)\n",
    "print(set1)"
   ]
  },
  {
   "cell_type": "markdown",
   "id": "f78baeb9",
   "metadata": {},
   "source": [
    "#### Iterating thru a set"
   ]
  },
  {
   "cell_type": "code",
   "execution_count": 13,
   "id": "16141323",
   "metadata": {},
   "outputs": [
    {
     "name": "stdout",
     "output_type": "stream",
     "text": [
      "f\n",
      "b\n",
      "e\n",
      "a\n",
      "c\n",
      "g\n",
      "h\n",
      "d\n"
     ]
    }
   ],
   "source": [
    "# Traversing thru a set\n",
    "set1 = set(['a','b','c','d','e','f','g','h'])\n",
    "for x in set1:\n",
    "    print(x)"
   ]
  },
  {
   "cell_type": "code",
   "execution_count": null,
   "id": "3e8cfd0e",
   "metadata": {},
   "outputs": [],
   "source": []
  }
 ],
 "metadata": {
  "kernelspec": {
   "display_name": "Python 3 (ipykernel)",
   "language": "python",
   "name": "python3"
  },
  "language_info": {
   "codemirror_mode": {
    "name": "ipython",
    "version": 3
   },
   "file_extension": ".py",
   "mimetype": "text/x-python",
   "name": "python",
   "nbconvert_exporter": "python",
   "pygments_lexer": "ipython3",
   "version": "3.11.3"
  }
 },
 "nbformat": 4,
 "nbformat_minor": 5
}
